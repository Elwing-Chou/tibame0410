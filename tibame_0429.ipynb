{
  "nbformat": 4,
  "nbformat_minor": 0,
  "metadata": {
    "colab": {
      "provenance": [],
      "authorship_tag": "ABX9TyNZCgxXpmMGUFucnWWAmZH/",
      "include_colab_link": true
    },
    "kernelspec": {
      "name": "python3",
      "display_name": "Python 3"
    },
    "language_info": {
      "name": "python"
    }
  },
  "cells": [
    {
      "cell_type": "markdown",
      "metadata": {
        "id": "view-in-github",
        "colab_type": "text"
      },
      "source": [
        "<a href=\"https://colab.research.google.com/github/Elwing-Chou/tibame0410/blob/main/tibame_0429.ipynb\" target=\"_parent\"><img src=\"https://colab.research.google.com/assets/colab-badge.svg\" alt=\"Open In Colab\"/></a>"
      ]
    },
    {
      "cell_type": "code",
      "execution_count": null,
      "metadata": {
        "id": "7MmWLLh0FlX7"
      },
      "outputs": [],
      "source": [
        "# selenium/webdriver-manager\n",
        "import time\n",
        "from selenium.webdriver.chrome.service import Service\n",
        "from webdriver_manager.chrome import ChromeDriverManager\n",
        "from selenium import webdriver\n",
        "from selenium.webdriver.common.by import By\n",
        "from selenium.webdriver.common.keys import Keys\n",
        "\n",
        "# 如果不做設置, chrome視窗有可能會自動關閉\n",
        "options = webdriver.ChromeOptions()\n",
        "options.add_experimental_option(\"detach\", True)\n",
        "\n",
        "driver = webdriver.Chrome(options=options,\n",
        "                          service=Service(ChromeDriverManager().install()))"
      ]
    }
  ]
}