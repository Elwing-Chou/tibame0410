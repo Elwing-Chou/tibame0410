{
  "nbformat": 4,
  "nbformat_minor": 0,
  "metadata": {
    "colab": {
      "provenance": [],
      "authorship_tag": "ABX9TyNi7rhzGD8S0J2YWFsZmUiu",
      "include_colab_link": true
    },
    "kernelspec": {
      "name": "python3",
      "display_name": "Python 3"
    },
    "language_info": {
      "name": "python"
    }
  },
  "cells": [
    {
      "cell_type": "markdown",
      "metadata": {
        "id": "view-in-github",
        "colab_type": "text"
      },
      "source": [
        "<a href=\"https://colab.research.google.com/github/Elwing-Chou/tibame0410/blob/main/tibame_0415.ipynb\" target=\"_parent\"><img src=\"https://colab.research.google.com/assets/colab-badge.svg\" alt=\"Open In Colab\"/></a>"
      ]
    },
    {
      "cell_type": "markdown",
      "source": [
        "\n",
        "\n",
        "```\n",
        "不是用次數決定的迴圈\n",
        "\n",
        "* 就不用哪三條, while後面就比較自由\n",
        "\n",
        "新型態: 布林(是否) True False\n",
        "1. 不: not 原判斷\n",
        "2. 組合: and(而且) or(或者)\n",
        "\n",
        "```\n",
        "\n"
      ],
      "metadata": {
        "id": "YLMRceDgB8Gq"
      }
    },
    {
      "cell_type": "code",
      "execution_count": 7,
      "metadata": {
        "colab": {
          "base_uri": "https://localhost:8080/"
        },
        "id": "Yb11nJ5IB5J-",
        "outputId": "14e4e9e9-f0e9-4119-b65a-d16e6ee5c36e"
      },
      "outputs": [
        {
          "output_type": "stream",
          "name": "stdout",
          "text": [
            "平手\n",
            "贏:)\n",
            "輸:(\n",
            "平手\n",
            "輸:(\n",
            "贏:)\n",
            "贏:)\n",
            "WIN!!!!\n"
          ]
        }
      ],
      "source": [
        "import random\n",
        "\n",
        "win, even, lose = 0, 0, 0\n",
        "trans = [\"輸:(\", \"平手\", \"贏:)\"]\n",
        "# 條件1: 我還沒贏三把\n",
        "# 條件2: 對手還沒贏三把\n",
        "while (win < 3) and (lose < 3):\n",
        "    result = random.randint(-1, 1)\n",
        "    print(trans[result+1])\n",
        "    if result == -1:\n",
        "        lose = lose + 1\n",
        "    elif result == 0:\n",
        "        even = even + 1\n",
        "    elif result == 1:\n",
        "        win = win + 1\n",
        "\n",
        "if win > lose:\n",
        "    print(\"WIN!!!!\")\n",
        "else:\n",
        "    print(\"LOSE!!!!\")"
      ]
    },
    {
      "cell_type": "code",
      "source": [
        "a = 5\n",
        "b = 3\n",
        "print(\"先印出\", a, \"再印出\", b)\n",
        "print(f\"先印出{a} 再印出{b}\")"
      ],
      "metadata": {
        "colab": {
          "base_uri": "https://localhost:8080/"
        },
        "id": "Irq2ojhrDu4j",
        "outputId": "14be42ac-b1a3-44ce-96c8-1bb772d0db62"
      },
      "execution_count": 1,
      "outputs": [
        {
          "output_type": "stream",
          "name": "stdout",
          "text": [
            "先印出 5 再印出 3\n",
            "先印出5 再印出3\n"
          ]
        }
      ]
    },
    {
      "cell_type": "code",
      "source": [
        "5 < 2"
      ],
      "metadata": {
        "colab": {
          "base_uri": "https://localhost:8080/"
        },
        "id": "rSuvNLQZF1xJ",
        "outputId": "2a1822a9-319b-4334-f530-a8e86e5e9617"
      },
      "execution_count": 5,
      "outputs": [
        {
          "output_type": "execute_result",
          "data": {
            "text/plain": [
              "False"
            ]
          },
          "metadata": {},
          "execution_count": 5
        }
      ]
    }
  ]
}