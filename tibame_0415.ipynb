{
  "nbformat": 4,
  "nbformat_minor": 0,
  "metadata": {
    "colab": {
      "provenance": [],
      "authorship_tag": "ABX9TyPuKIdh9OIkXpTa7lxB2LlI",
      "include_colab_link": true
    },
    "kernelspec": {
      "name": "python3",
      "display_name": "Python 3"
    },
    "language_info": {
      "name": "python"
    }
  },
  "cells": [
    {
      "cell_type": "markdown",
      "metadata": {
        "id": "view-in-github",
        "colab_type": "text"
      },
      "source": [
        "<a href=\"https://colab.research.google.com/github/Elwing-Chou/tibame0410/blob/main/tibame_0415.ipynb\" target=\"_parent\"><img src=\"https://colab.research.google.com/assets/colab-badge.svg\" alt=\"Open In Colab\"/></a>"
      ]
    },
    {
      "cell_type": "markdown",
      "source": [
        "\n",
        "\n",
        "```\n",
        "不是用次數決定的迴圈\n",
        "\n",
        "* 就不用哪三條, while後面就比較自由\n",
        "\n",
        "新型態: 布林(是否) True False\n",
        "1. 不: not 原判斷\n",
        "2. 組合: and(而且) or(或者)\n",
        "\n",
        "```\n",
        "\n"
      ],
      "metadata": {
        "id": "YLMRceDgB8Gq"
      }
    },
    {
      "cell_type": "code",
      "execution_count": 7,
      "metadata": {
        "colab": {
          "base_uri": "https://localhost:8080/"
        },
        "id": "Yb11nJ5IB5J-",
        "outputId": "14e4e9e9-f0e9-4119-b65a-d16e6ee5c36e"
      },
      "outputs": [
        {
          "output_type": "stream",
          "name": "stdout",
          "text": [
            "平手\n",
            "贏:)\n",
            "輸:(\n",
            "平手\n",
            "輸:(\n",
            "贏:)\n",
            "贏:)\n",
            "WIN!!!!\n"
          ]
        }
      ],
      "source": [
        "import random\n",
        "\n",
        "win, even, lose = 0, 0, 0\n",
        "trans = [\"輸:(\", \"平手\", \"贏:)\"]\n",
        "# 條件1: 我還沒贏三把\n",
        "# 條件2: 對手還沒贏三把\n",
        "while (win < 3) and (lose < 3):\n",
        "    result = random.randint(-1, 1)\n",
        "    print(trans[result+1])\n",
        "    if result == -1:\n",
        "        lose = lose + 1\n",
        "    elif result == 0:\n",
        "        even = even + 1\n",
        "    elif result == 1:\n",
        "        win = win + 1\n",
        "\n",
        "if win > lose:\n",
        "    print(\"WIN!!!!\")\n",
        "else:\n",
        "    print(\"LOSE!!!!\")"
      ]
    },
    {
      "cell_type": "code",
      "source": [
        "a = 5\n",
        "b = 3\n",
        "print(\"先印出\", a, \"再印出\", b)\n",
        "print(f\"先印出{a} 再印出{b}\")"
      ],
      "metadata": {
        "colab": {
          "base_uri": "https://localhost:8080/"
        },
        "id": "Irq2ojhrDu4j",
        "outputId": "14be42ac-b1a3-44ce-96c8-1bb772d0db62"
      },
      "execution_count": 1,
      "outputs": [
        {
          "output_type": "stream",
          "name": "stdout",
          "text": [
            "先印出 5 再印出 3\n",
            "先印出5 再印出3\n"
          ]
        }
      ]
    },
    {
      "cell_type": "code",
      "source": [
        "import random\n",
        "\n",
        "win, even, lose = 0, 0, 0\n",
        "trans = [\"輸:(\", \"平手\", \"贏:)\"]\n",
        "# while True的好處\n",
        "# 1. 判斷的時間點很自由\n",
        "# 2. 判斷的式子也會很自由\n",
        "# 3. 收尾工作也很自由\n",
        "# (隱藏) 中文會比較容易說\n",
        "while True:\n",
        "    result = random.randint(-1, 1)\n",
        "    print(trans[result+1])\n",
        "    if result == -1:\n",
        "        lose = lose + 1\n",
        "    elif result == 0:\n",
        "        even = even + 1\n",
        "    elif result == 1:\n",
        "        win = win + 1\n",
        "\n",
        "    if win == 3:\n",
        "        print(\"WIN!!!!\")\n",
        "        break\n",
        "    elif lose == 3:\n",
        "        print(\"LOSE!!!\")\n",
        "        break"
      ],
      "metadata": {
        "colab": {
          "base_uri": "https://localhost:8080/"
        },
        "id": "rSuvNLQZF1xJ",
        "outputId": "2a1822a9-319b-4334-f530-a8e86e5e9617"
      },
      "execution_count": 5,
      "outputs": [
        {
          "output_type": "execute_result",
          "data": {
            "text/plain": [
              "False"
            ]
          },
          "metadata": {},
          "execution_count": 5
        }
      ]
    },
    {
      "cell_type": "code",
      "source": [
        "p, f, c = 0, 0, 0\n",
        "while True:\n",
        "    choice = input(\"0.protein 1.fat 2.carbon 3.一碗飯 +.今天統計 q.離開迴圈\")\n",
        "    # 如果他選的0-2: 那你要輸入己克\n",
        "    # if (choice == \"0\") or (choice == \"1\") or (choice == \"2\"):\n",
        "    if choice in [\"0\", \"1\", \"2\"]:\n",
        "        gram = int(input(\"幾克:\"))\n",
        "        if choice == \"0\":\n",
        "            p = p + gram\n",
        "        elif choice == \"1\":\n",
        "            f = f + gram\n",
        "        elif choice == \"2\":\n",
        "            c = c + gram\n",
        "        print(\"p f c\", p, f, c)\n",
        "    elif choice == \"3\":\n",
        "        c = c + 65\n",
        "    elif choice == \"+\":\n",
        "        p, f, c = 0, 0, 0\n",
        "        calorie = p * 4 + f * 9 + c * 4\n",
        "        print(\"今天吃了\", p, \"蛋白質\", f, \"脂肪\", c, \"碳水化合物\")\n",
        "        print(\"熱量為\", calorie)\n",
        "    elif choice == \"q\":\n",
        "        break\n",
        "    # 如果他選的是3 p+0 f+0 c+65\n",
        "    # 如果你選的是+: 你要印出今天吃了多少熱量, 然後把pfc重製成0\n"
      ],
      "metadata": {
        "colab": {
          "base_uri": "https://localhost:8080/"
        },
        "id": "4FX6jFTTN9wx",
        "outputId": "942abaf6-268a-4dd2-c0a0-d0e9923de83f"
      },
      "execution_count": 9,
      "outputs": [
        {
          "name": "stdout",
          "output_type": "stream",
          "text": [
            "0.protein 1.fat 2.carbon 3.一碗飯 +.今天統計 q.離開迴圈0\n",
            "幾克:20\n",
            "p f c 20 0 0\n",
            "0.protein 1.fat 2.carbon 3.一碗飯 +.今天統計 q.離開迴圈1\n",
            "幾克:14\n",
            "p f c 20 14 0\n",
            "0.protein 1.fat 2.carbon 3.一碗飯 +.今天統計 q.離開迴圈3\n",
            "0.protein 1.fat 2.carbon 3.一碗飯 +.今天統計 q.離開迴圈+\n",
            "今天吃了 20 蛋白質 14 脂肪 65 碳水化合物\n",
            "0.protein 1.fat 2.carbon 3.一碗飯 +.今天統計 q.離開迴圈0\n",
            "幾克:30\n",
            "p f c 30 0 0\n",
            "0.protein 1.fat 2.carbon 3.一碗飯 +.今天統計 q.離開迴圈q\n"
          ]
        }
      ]
    }
  ]
}