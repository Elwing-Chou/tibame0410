{
  "nbformat": 4,
  "nbformat_minor": 0,
  "metadata": {
    "colab": {
      "provenance": [],
      "authorship_tag": "ABX9TyNRVL5pLBTRqc+CyvbgydEn",
      "include_colab_link": true
    },
    "kernelspec": {
      "name": "python3",
      "display_name": "Python 3"
    },
    "language_info": {
      "name": "python"
    }
  },
  "cells": [
    {
      "cell_type": "markdown",
      "metadata": {
        "id": "view-in-github",
        "colab_type": "text"
      },
      "source": [
        "<a href=\"https://colab.research.google.com/github/Elwing-Chou/tibame0410/blob/main/tibame_0415.ipynb\" target=\"_parent\"><img src=\"https://colab.research.google.com/assets/colab-badge.svg\" alt=\"Open In Colab\"/></a>"
      ]
    },
    {
      "cell_type": "markdown",
      "source": [
        "\n",
        "\n",
        "```\n",
        "不是用次數決定的迴圈\n",
        "\n",
        "* 就不用哪三條, while後面就比較自由\n",
        "\n",
        "```\n",
        "\n"
      ],
      "metadata": {
        "id": "YLMRceDgB8Gq"
      }
    },
    {
      "cell_type": "code",
      "execution_count": 3,
      "metadata": {
        "colab": {
          "base_uri": "https://localhost:8080/"
        },
        "id": "Yb11nJ5IB5J-",
        "outputId": "ad56bc1f-7523-425c-bde4-b29cc30c87fe"
      },
      "outputs": [
        {
          "output_type": "stream",
          "name": "stdout",
          "text": [
            "平手\n",
            "平手\n",
            "平手\n",
            "輸:(\n",
            "贏:)\n",
            "贏:)\n",
            "輸:(\n",
            "贏:)\n"
          ]
        }
      ],
      "source": [
        "import random\n",
        "\n",
        "win, even, lose = 0, 0, 0\n",
        "trans = [\"輸:(\", \"平手\", \"贏:)\"]\n",
        "while win < 3:\n",
        "    result = random.randint(-1, 1)\n",
        "    print(trans[result+1])\n",
        "    if result == -1:\n",
        "        lose = lose + 1\n",
        "    elif result == 0:\n",
        "        even = even + 1\n",
        "    elif result == 1:\n",
        "        win = win + 1\n"
      ]
    },
    {
      "cell_type": "code",
      "source": [
        "a = 5\n",
        "b = 3\n",
        "print(\"先印出\", a, \"再印出\", b)\n",
        "print(f\"先印出{a} 再印出{b}\")"
      ],
      "metadata": {
        "colab": {
          "base_uri": "https://localhost:8080/"
        },
        "id": "Irq2ojhrDu4j",
        "outputId": "14be42ac-b1a3-44ce-96c8-1bb772d0db62"
      },
      "execution_count": 1,
      "outputs": [
        {
          "output_type": "stream",
          "name": "stdout",
          "text": [
            "先印出 5 再印出 3\n",
            "先印出5 再印出3\n"
          ]
        }
      ]
    }
  ]
}