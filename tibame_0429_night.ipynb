{
  "nbformat": 4,
  "nbformat_minor": 0,
  "metadata": {
    "colab": {
      "provenance": [],
      "authorship_tag": "ABX9TyNOgc09gu5VJJAP4uG/LTrE",
      "include_colab_link": true
    },
    "kernelspec": {
      "name": "python3",
      "display_name": "Python 3"
    },
    "language_info": {
      "name": "python"
    }
  },
  "cells": [
    {
      "cell_type": "markdown",
      "metadata": {
        "id": "view-in-github",
        "colab_type": "text"
      },
      "source": [
        "<a href=\"https://colab.research.google.com/github/Elwing-Chou/tibame0410/blob/main/tibame_0429_night.ipynb\" target=\"_parent\"><img src=\"https://colab.research.google.com/assets/colab-badge.svg\" alt=\"Open In Colab\"/></a>"
      ]
    },
    {
      "cell_type": "markdown",
      "source": [
        "\n",
        "\n",
        "```\n",
        "o\n",
        "oo\n",
        "ooo\n",
        "oooo\n",
        "```\n",
        "\n"
      ],
      "metadata": {
        "id": "e23frwvfOzMB"
      }
    },
    {
      "cell_type": "code",
      "execution_count": 4,
      "metadata": {
        "colab": {
          "base_uri": "https://localhost:8080/"
        },
        "id": "499K3zQoOTm-",
        "outputId": "18a20cbe-f2f6-4b52-e0d3-882383aa4cbc"
      },
      "outputs": [
        {
          "output_type": "stream",
          "name": "stdout",
          "text": [
            "o\n",
            "oo\n",
            "ooo\n",
            "oooo\n",
            "ooooo\n",
            "oooooo\n",
            "ooooooo\n",
            "oooooooo\n",
            "ooooooooo\n",
            "oooooooooo\n"
          ]
        }
      ],
      "source": [
        "i = 0\n",
        "while i < 10:\n",
        "    print(\"o\" * (i + 1))\n",
        "    i = i + 1"
      ]
    },
    {
      "cell_type": "code",
      "source": [
        "print(\"abc\" * 4)\n",
        "print([20, 30] * 4)"
      ],
      "metadata": {
        "colab": {
          "base_uri": "https://localhost:8080/"
        },
        "id": "mQDygc6OO8RJ",
        "outputId": "986a22f9-53e3-4b2d-b328-df3a2489793c"
      },
      "execution_count": 2,
      "outputs": [
        {
          "output_type": "stream",
          "name": "stdout",
          "text": [
            "abcabcabcabc\n",
            "[20, 30, 20, 30, 20, 30, 20, 30]\n"
          ]
        }
      ]
    },
    {
      "cell_type": "markdown",
      "source": [
        "```\n",
        "oooo\n",
        "_ooo\n",
        "__oo\n",
        "___o\n",
        "```"
      ],
      "metadata": {
        "id": "mmnWqNY2PtWh"
      }
    },
    {
      "cell_type": "code",
      "source": [
        "i = 0\n",
        "while i < 10:\n",
        "    print(\" \" * i + \"o\" * (10 - i))\n",
        "    i = i + 1"
      ],
      "metadata": {
        "id": "hgXxjyBaPr15"
      },
      "execution_count": null,
      "outputs": []
    },
    {
      "cell_type": "code",
      "source": [
        "# 修正\n",
        "left, right = \" \", \"o\"\n",
        "layer = 10\n",
        "i = 0\n",
        "while i < layer:\n",
        "    lcount = i\n",
        "    rcount = layer - i\n",
        "    print(left * lcount + right * rcount)\n",
        "    i = i + 1"
      ],
      "metadata": {
        "colab": {
          "base_uri": "https://localhost:8080/"
        },
        "id": "HukzfcYnQ6HR",
        "outputId": "3fda8a18-5a50-4af3-be59-5d29ab8f723c"
      },
      "execution_count": 6,
      "outputs": [
        {
          "output_type": "stream",
          "name": "stdout",
          "text": [
            "oooooooooo\n",
            " ooooooooo\n",
            "  oooooooo\n",
            "   ooooooo\n",
            "    oooooo\n",
            "     ooooo\n",
            "      oooo\n",
            "       ooo\n",
            "        oo\n",
            "         o\n"
          ]
        }
      ]
    },
    {
      "cell_type": "code",
      "source": [
        "# 修正\n",
        "left, right = \" \", \"o\"\n",
        "layer = 10\n",
        "i = 0\n",
        "while i < layer:\n",
        "    lcount = layer - i - 1\n",
        "    rcount = i + 1\n",
        "    print(left * lcount + right * rcount)\n",
        "    i = i + 1"
      ],
      "metadata": {
        "colab": {
          "base_uri": "https://localhost:8080/"
        },
        "id": "lTx-US3BTdBf",
        "outputId": "40cbc899-993f-4817-f36f-de1f420a04f3"
      },
      "execution_count": 7,
      "outputs": [
        {
          "output_type": "stream",
          "name": "stdout",
          "text": [
            "         o\n",
            "        oo\n",
            "       ooo\n",
            "      oooo\n",
            "     ooooo\n",
            "    oooooo\n",
            "   ooooooo\n",
            "  oooooooo\n",
            " ooooooooo\n",
            "oooooooooo\n"
          ]
        }
      ]
    },
    {
      "cell_type": "code",
      "source": [
        "# 修正\n",
        "layer = 10\n",
        "i = 0\n",
        "while i < layer:\n",
        "    if i % 2 == 0:\n",
        "        left, right = \" \", \"o\"\n",
        "    else:\n",
        "        left, right = \" \", \"x\"\n",
        "    lcount = i\n",
        "    rcount = layer - i\n",
        "    print(left * lcount + right * rcount)\n",
        "    i = i + 1"
      ],
      "metadata": {
        "id": "ahganlw0WYki"
      },
      "execution_count": null,
      "outputs": []
    },
    {
      "cell_type": "code",
      "source": [
        "lsymbols = [\" \"]\n",
        "rsymbols = [\"o\", \"x\", \"?\", \"u\"]\n",
        "layer = 10\n",
        "i = 0\n",
        "while i < layer:\n",
        "    left = lsymbols[i%len(lsymbols)]\n",
        "    right = rsymbols[i%len(rsymbols)]\n",
        "    lcount = i\n",
        "    rcount = layer - i\n",
        "    print(left * lcount + right * rcount)\n",
        "    i = i + 1"
      ],
      "metadata": {
        "colab": {
          "base_uri": "https://localhost:8080/"
        },
        "id": "2AoA6z8mXHcZ",
        "outputId": "80575abd-e8ae-4dd6-8234-be5a44bb4663"
      },
      "execution_count": 14,
      "outputs": [
        {
          "output_type": "stream",
          "name": "stdout",
          "text": [
            "oooooooooo\n",
            " xxxxxxxxx\n",
            "  ????????\n",
            "   uuuuuuu\n",
            "    oooooo\n",
            "     xxxxx\n",
            "      ????\n",
            "       uuu\n",
            "        oo\n",
            "         x\n"
          ]
        }
      ]
    },
    {
      "cell_type": "code",
      "source": [
        "s = \"apple\"\n",
        "len(s)"
      ],
      "metadata": {
        "colab": {
          "base_uri": "https://localhost:8080/"
        },
        "id": "eaYyx1S1Xw4Y",
        "outputId": "c28433f7-dc41-4605-abec-05cfdb5b5c19"
      },
      "execution_count": 9,
      "outputs": [
        {
          "output_type": "execute_result",
          "data": {
            "text/plain": [
              "5"
            ]
          },
          "metadata": {},
          "execution_count": 9
        }
      ]
    },
    {
      "cell_type": "markdown",
      "source": [
        "```\n",
        "\n",
        "ooooo\n",
        "_ooo_\n",
        "__o__\n",
        "```"
      ],
      "metadata": {
        "id": "IauzSOvqaMMg"
      }
    },
    {
      "cell_type": "code",
      "source": [
        "left, mid, right = \" \", \"o\", \" \"\n",
        "layer = 10\n",
        "i = 0\n",
        "while i < layer:\n",
        "    lcount = i\n",
        "    mcount = (2 * layer - 1) - 2 * i\n",
        "    rcount = i\n",
        "    print(left * lcount +\n",
        "          mid * mcount +\n",
        "          right * rcount)\n",
        "    i = i + 1"
      ],
      "metadata": {
        "colab": {
          "base_uri": "https://localhost:8080/"
        },
        "id": "lUG6e-NYfDIy",
        "outputId": "f47d2a6b-af5e-4c19-ccd0-5363959e4427"
      },
      "execution_count": 16,
      "outputs": [
        {
          "output_type": "stream",
          "name": "stdout",
          "text": [
            "ooooooooooooooooooo\n",
            " ooooooooooooooooo \n",
            "  ooooooooooooooo  \n",
            "   ooooooooooooo   \n",
            "    ooooooooooo    \n",
            "     ooooooooo     \n",
            "      ooooooo      \n",
            "       ooooo       \n",
            "        ooo        \n",
            "         o         \n"
          ]
        }
      ]
    },
    {
      "cell_type": "markdown",
      "source": [
        "累加型"
      ],
      "metadata": {
        "id": "rWU0iFIRhI8C"
      }
    },
    {
      "cell_type": "code",
      "source": [
        "total = 0\n",
        "i = 0\n",
        "while i < 10:\n",
        "    total = total + (i + 1)\n",
        "    print(total)\n",
        "    i = i + 1"
      ],
      "metadata": {
        "id": "8bvoBXSJh66q"
      },
      "execution_count": null,
      "outputs": []
    },
    {
      "cell_type": "code",
      "source": [
        "# break\n",
        "a, b = 30, 7\n",
        "result = str(a // b) + \".\"\n",
        "a = a % b\n",
        "i = 0\n",
        "while i < 10:\n",
        "    # 2 -> 20\n",
        "    a10 = a * 10\n",
        "    # 20 // 7 -> 0.2\n",
        "    result = result + str(a10 // b)\n",
        "    print(result)\n",
        "    # 20 % 7\n",
        "    a = a10 % b\n",
        "    if a == 0:\n",
        "        break\n",
        "    i = i + 1"
      ],
      "metadata": {
        "colab": {
          "base_uri": "https://localhost:8080/"
        },
        "id": "kINZt81YkHI7",
        "outputId": "bc572df2-6d18-4b28-a6bf-f8dac39c4c5a"
      },
      "execution_count": 26,
      "outputs": [
        {
          "output_type": "stream",
          "name": "stdout",
          "text": [
            "4.2\n",
            "4.28\n",
            "4.285\n",
            "4.2857\n",
            "4.28571\n",
            "4.285714\n",
            "4.2857142\n",
            "4.28571428\n",
            "4.285714285\n",
            "4.2857142857\n"
          ]
        }
      ]
    },
    {
      "cell_type": "code",
      "source": [
        "import random\n",
        "count0, count1 = 0, 0\n",
        "times = 100\n",
        "i = 0\n",
        "while i < times:\n",
        "    n = random.randint(0, 1)\n",
        "    if n == 0:\n",
        "        count0 = count0 + 1\n",
        "    elif n == 1:\n",
        "        count1 = count1 + 1\n",
        "    i = i + 1\n",
        "print(count0, count1)"
      ],
      "metadata": {
        "colab": {
          "base_uri": "https://localhost:8080/"
        },
        "id": "JZnKy4__sk5A",
        "outputId": "451dc716-99d9-4dc3-f63e-66a8a6744d2b"
      },
      "execution_count": 31,
      "outputs": [
        {
          "output_type": "stream",
          "name": "stdout",
          "text": [
            "48 52\n"
          ]
        }
      ]
    }
  ]
}