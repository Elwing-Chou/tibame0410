{
  "nbformat": 4,
  "nbformat_minor": 0,
  "metadata": {
    "colab": {
      "provenance": [],
      "authorship_tag": "ABX9TyMM//aD9yA2Jc/fj192GZZ/",
      "include_colab_link": true
    },
    "kernelspec": {
      "name": "python3",
      "display_name": "Python 3"
    },
    "language_info": {
      "name": "python"
    }
  },
  "cells": [
    {
      "cell_type": "markdown",
      "metadata": {
        "id": "view-in-github",
        "colab_type": "text"
      },
      "source": [
        "<a href=\"https://colab.research.google.com/github/Elwing-Chou/tibame0410/blob/main/tibame_0429_night.ipynb\" target=\"_parent\"><img src=\"https://colab.research.google.com/assets/colab-badge.svg\" alt=\"Open In Colab\"/></a>"
      ]
    },
    {
      "cell_type": "markdown",
      "source": [
        "\n",
        "\n",
        "```\n",
        "o\n",
        "oo\n",
        "ooo\n",
        "oooo\n",
        "```\n",
        "\n"
      ],
      "metadata": {
        "id": "e23frwvfOzMB"
      }
    },
    {
      "cell_type": "code",
      "execution_count": 4,
      "metadata": {
        "colab": {
          "base_uri": "https://localhost:8080/"
        },
        "id": "499K3zQoOTm-",
        "outputId": "18a20cbe-f2f6-4b52-e0d3-882383aa4cbc"
      },
      "outputs": [
        {
          "output_type": "stream",
          "name": "stdout",
          "text": [
            "o\n",
            "oo\n",
            "ooo\n",
            "oooo\n",
            "ooooo\n",
            "oooooo\n",
            "ooooooo\n",
            "oooooooo\n",
            "ooooooooo\n",
            "oooooooooo\n"
          ]
        }
      ],
      "source": [
        "i = 0\n",
        "while i < 10:\n",
        "    print(\"o\" * (i + 1))\n",
        "    i = i + 1"
      ]
    },
    {
      "cell_type": "code",
      "source": [
        "print(\"abc\" * 4)\n",
        "print([20, 30] * 4)"
      ],
      "metadata": {
        "colab": {
          "base_uri": "https://localhost:8080/"
        },
        "id": "mQDygc6OO8RJ",
        "outputId": "986a22f9-53e3-4b2d-b328-df3a2489793c"
      },
      "execution_count": 2,
      "outputs": [
        {
          "output_type": "stream",
          "name": "stdout",
          "text": [
            "abcabcabcabc\n",
            "[20, 30, 20, 30, 20, 30, 20, 30]\n"
          ]
        }
      ]
    },
    {
      "cell_type": "markdown",
      "source": [
        "```\n",
        "oooo\n",
        "_ooo\n",
        "__oo\n",
        "___o\n",
        "```"
      ],
      "metadata": {
        "id": "mmnWqNY2PtWh"
      }
    },
    {
      "cell_type": "code",
      "source": [
        "i = 0\n",
        "while i < 10:\n",
        "    print(\" \" * i + \"o\" * (10 - i))\n",
        "    i = i + 1"
      ],
      "metadata": {
        "id": "hgXxjyBaPr15"
      },
      "execution_count": null,
      "outputs": []
    },
    {
      "cell_type": "code",
      "source": [
        "# 修正\n",
        "left, right = \" \", \"o\"\n",
        "layer = 10\n",
        "i = 0\n",
        "while i < layer:\n",
        "    lcount = i\n",
        "    rcount = layer - i\n",
        "    print(left * lcount + right * rcount)\n",
        "    i = i + 1"
      ],
      "metadata": {
        "colab": {
          "base_uri": "https://localhost:8080/"
        },
        "id": "HukzfcYnQ6HR",
        "outputId": "3fda8a18-5a50-4af3-be59-5d29ab8f723c"
      },
      "execution_count": 6,
      "outputs": [
        {
          "output_type": "stream",
          "name": "stdout",
          "text": [
            "oooooooooo\n",
            " ooooooooo\n",
            "  oooooooo\n",
            "   ooooooo\n",
            "    oooooo\n",
            "     ooooo\n",
            "      oooo\n",
            "       ooo\n",
            "        oo\n",
            "         o\n"
          ]
        }
      ]
    },
    {
      "cell_type": "code",
      "source": [
        "# 修正\n",
        "left, right = \" \", \"o\"\n",
        "layer = 10\n",
        "i = 0\n",
        "while i < layer:\n",
        "    lcount = layer - i - 1\n",
        "    rcount = i + 1\n",
        "    print(left * lcount + right * rcount)\n",
        "    i = i + 1"
      ],
      "metadata": {
        "colab": {
          "base_uri": "https://localhost:8080/"
        },
        "id": "lTx-US3BTdBf",
        "outputId": "40cbc899-993f-4817-f36f-de1f420a04f3"
      },
      "execution_count": 7,
      "outputs": [
        {
          "output_type": "stream",
          "name": "stdout",
          "text": [
            "         o\n",
            "        oo\n",
            "       ooo\n",
            "      oooo\n",
            "     ooooo\n",
            "    oooooo\n",
            "   ooooooo\n",
            "  oooooooo\n",
            " ooooooooo\n",
            "oooooooooo\n"
          ]
        }
      ]
    },
    {
      "cell_type": "code",
      "source": [
        "# 修正\n",
        "layer = 10\n",
        "i = 0\n",
        "while i < layer:\n",
        "    if i % 2 == 0:\n",
        "        left, right = \" \", \"o\"\n",
        "    else:\n",
        "        left, right = \" \", \"x\"\n",
        "    lcount = i\n",
        "    rcount = layer - i\n",
        "    print(left * lcount + right * rcount)\n",
        "    i = i + 1"
      ],
      "metadata": {
        "id": "ahganlw0WYki"
      },
      "execution_count": null,
      "outputs": []
    },
    {
      "cell_type": "code",
      "source": [
        "lsymbols = [\" \"]\n",
        "rsymbols = [\"o\", \"x\", \"?\", \"u\"]\n",
        "layer = 10\n",
        "i = 0\n",
        "while i < layer:\n",
        "    left = lsymbols[i%len(lsymbols)]\n",
        "    right = rsymbols[i%len(rsymbols)]\n",
        "    lcount = i\n",
        "    rcount = layer - i\n",
        "    print(left * lcount + right * rcount)\n",
        "    i = i + 1"
      ],
      "metadata": {
        "colab": {
          "base_uri": "https://localhost:8080/"
        },
        "id": "2AoA6z8mXHcZ",
        "outputId": "80575abd-e8ae-4dd6-8234-be5a44bb4663"
      },
      "execution_count": 14,
      "outputs": [
        {
          "output_type": "stream",
          "name": "stdout",
          "text": [
            "oooooooooo\n",
            " xxxxxxxxx\n",
            "  ????????\n",
            "   uuuuuuu\n",
            "    oooooo\n",
            "     xxxxx\n",
            "      ????\n",
            "       uuu\n",
            "        oo\n",
            "         x\n"
          ]
        }
      ]
    },
    {
      "cell_type": "code",
      "source": [
        "s = \"apple\"\n",
        "len(s)"
      ],
      "metadata": {
        "colab": {
          "base_uri": "https://localhost:8080/"
        },
        "id": "eaYyx1S1Xw4Y",
        "outputId": "c28433f7-dc41-4605-abec-05cfdb5b5c19"
      },
      "execution_count": 9,
      "outputs": [
        {
          "output_type": "execute_result",
          "data": {
            "text/plain": [
              "5"
            ]
          },
          "metadata": {},
          "execution_count": 9
        }
      ]
    }
  ]
}