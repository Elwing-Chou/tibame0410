{
  "nbformat": 4,
  "nbformat_minor": 0,
  "metadata": {
    "colab": {
      "provenance": [],
      "authorship_tag": "ABX9TyOqvx0kXWHj9RpAbsHXNmFh",
      "include_colab_link": true
    },
    "kernelspec": {
      "name": "python3",
      "display_name": "Python 3"
    },
    "language_info": {
      "name": "python"
    }
  },
  "cells": [
    {
      "cell_type": "markdown",
      "metadata": {
        "id": "view-in-github",
        "colab_type": "text"
      },
      "source": [
        "<a href=\"https://colab.research.google.com/github/Elwing-Chou/tibame0410/blob/main/tibame_0428_2.ipynb\" target=\"_parent\"><img src=\"https://colab.research.google.com/assets/colab-badge.svg\" alt=\"Open In Colab\"/></a>"
      ]
    },
    {
      "cell_type": "code",
      "execution_count": 7,
      "metadata": {
        "colab": {
          "base_uri": "https://localhost:8080/"
        },
        "id": "SIVKERRFOT8q",
        "outputId": "dce437c1-2b30-405c-cfcb-1a86dfc2afe3"
      },
      "outputs": [
        {
          "output_type": "stream",
          "name": "stdout",
          "text": [
            "https://24h.pchome.com.tw/prod/DMAH47-A900H012R\n",
            "https://24h.pchome.com.tw/prod/DDBH8B-A900GK0UE\n",
            "https://24h.pchome.com.tw/prod/DDDU04-A900GKQ4T\n",
            "https://24h.pchome.com.tw/prod/DMAH7M-A900HPUFB\n",
            "https://24h.pchome.com.tw/prod/DDDU04-1900I79JH\n",
            "https://24h.pchome.com.tw/prod/DMAHBY-A900I0K1F\n",
            "https://24h.pchome.com.tw/prod/DMAHCW-A900IGQBP\n",
            "https://24h.pchome.com.tw/prod/DMAH4C-A900I7YVV\n",
            "https://24h.pchome.com.tw/prod/DMAH7C-A900HQBQH\n",
            "https://24h.pchome.com.tw/prod/DMAH4C-A900I7YVH\n",
            "https://24h.pchome.com.tw/prod/DMAH02-A900AN6LF\n",
            "https://24h.pchome.com.tw/prod/DMAH02-A900ARLYE\n",
            "https://24h.pchome.com.tw/prod/DMAH4C-A900HTGKT\n",
            "https://24h.pchome.com.tw/prod/DMAH02-A900FUEMV\n",
            "https://24h.pchome.com.tw/prod/DMAH7S-A90092JRB\n",
            "https://24h.pchome.com.tw/prod/DMAH02-A900GN0FB\n",
            "https://24h.pchome.com.tw/prod/DMAH7S-A900GDOA8\n",
            "https://24h.pchome.com.tw/prod/DMAH4E-A9007XOV1\n",
            "https://24h.pchome.com.tw/prod/DYAN6U-A900GGFEZ\n",
            "https://24h.pchome.com.tw/prod/DMAH02-A900GAYQW\n",
            "https://24h.pchome.com.tw/prod/DMAH02-A900AN6LL\n",
            "https://24h.pchome.com.tw/prod/DMAH4C-A900I98XQ\n",
            "https://24h.pchome.com.tw/prod/DMAH7M-A900I8F9D\n",
            "https://24h.pchome.com.tw/prod/DYANA0-A900GGFEJ\n",
            "https://24h.pchome.com.tw/prod/DMAH7S-A900H6W65\n",
            "https://24h.pchome.com.tw/prod/DMAH7S-A900GG1U7\n",
            "https://24h.pchome.com.tw/prod/DMAH7S-A900GG1W8\n",
            "https://24h.pchome.com.tw/prod/DMAH6Y-A900HCNN5\n",
            "https://24h.pchome.com.tw/prod/DMAH02-A900AN6R8\n",
            "https://24h.pchome.com.tw/prod/DMAH0O-A900FEXWL\n",
            "https://24h.pchome.com.tw/prod/DMAH7S-A9009PI7V\n",
            "https://24h.pchome.com.tw/prod/DMBL3E-A900GYM4G\n",
            "https://24h.pchome.com.tw/prod/DMAH02-A900GT9TF\n",
            "https://24h.pchome.com.tw/prod/QBAP0A-A9006MR6P\n",
            "https://24h.pchome.com.tw/prod/DMAHBK-A900F5VGG\n",
            "https://24h.pchome.com.tw/prod/DMAC01-A900C8WD6\n",
            "https://24h.pchome.com.tw/prod/DMAH02-A69900062\n",
            "https://24h.pchome.com.tw/prod/DMAH15-A900HZAR0\n",
            "https://24h.pchome.com.tw/prod/DMAH4E-A9007GS5Z\n",
            "https://24h.pchome.com.tw/prod/DMAH02-A69891737\n",
            "https://24h.pchome.com.tw/prod/DMAHCQ-A900H8TIW\n",
            "https://24h.pchome.com.tw/prod/DMAH02-A90083MK3\n",
            "https://24h.pchome.com.tw/prod/DMAHCQ-A900HMMTV\n",
            "https://24h.pchome.com.tw/prod/DMAHCQ-A900H8UN6\n",
            "https://24h.pchome.com.tw/prod/DMAC01-A900EZHN2\n"
          ]
        }
      ],
      "source": [
        "import urllib.request as req\n",
        "import bs4 as bs\n",
        "url = \"https://24h.pchome.com.tw/search/?q=%E5%90%B9%E9%A2%A8%E6%A9%9F\"\n",
        "resp = req.urlopen(url)\n",
        "html = bs.BeautifulSoup(resp.read())\n",
        "links = html.find_all(\"a\", {\"class\":\"c-prodInfoV2__link\"})\n",
        "for link in links:\n",
        "    link_href = \"https://24h.pchome.com.tw\" + link[\"href\"]\n",
        "    print(link_href)"
      ]
    },
    {
      "cell_type": "code",
      "source": [
        "# 名字\n",
        "# 原價/目前售價\n",
        "# 滿額贈是否有(Y/N)\n",
        "# 進去以後\n",
        "# 評價幾分/幾則\n",
        "# 介紹\n",
        "# 圖片的網址"
      ],
      "metadata": {
        "id": "UEhcXI7iStjY"
      },
      "execution_count": null,
      "outputs": []
    },
    {
      "cell_type": "code",
      "source": [],
      "metadata": {
        "id": "2SWbhAHJTY6P"
      },
      "execution_count": null,
      "outputs": []
    }
  ]
}