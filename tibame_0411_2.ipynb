{
  "nbformat": 4,
  "nbformat_minor": 0,
  "metadata": {
    "colab": {
      "provenance": [],
      "authorship_tag": "ABX9TyNuFC8ppK23+RSdc49JwJWH",
      "include_colab_link": true
    },
    "kernelspec": {
      "name": "python3",
      "display_name": "Python 3"
    },
    "language_info": {
      "name": "python"
    }
  },
  "cells": [
    {
      "cell_type": "markdown",
      "metadata": {
        "id": "view-in-github",
        "colab_type": "text"
      },
      "source": [
        "<a href=\"https://colab.research.google.com/github/Elwing-Chou/tibame0410/blob/main/tibame_0411_2.ipynb\" target=\"_parent\"><img src=\"https://colab.research.google.com/assets/colab-badge.svg\" alt=\"Open In Colab\"/></a>"
      ]
    },
    {
      "cell_type": "markdown",
      "source": [
        "\n",
        "\n",
        "```\n",
        "紀錄東西\n",
        "!!! 腦子裡記得的東西要準備在迴圈外面\n",
        "```\n",
        "\n"
      ],
      "metadata": {
        "id": "fduDKC8m0C4m"
      }
    },
    {
      "cell_type": "code",
      "execution_count": 2,
      "metadata": {
        "colab": {
          "base_uri": "https://localhost:8080/"
        },
        "id": "tUiY-2sRz7Dk",
        "outputId": "8c13703b-6ac3-4bb6-dcbe-ffbbd9896ea2"
      },
      "outputs": [
        {
          "output_type": "stream",
          "name": "stdout",
          "text": [
            "1\n",
            "2\n",
            "3\n",
            "4\n",
            "5\n",
            "6\n",
            "7\n",
            "8\n",
            "9\n",
            "10\n"
          ]
        }
      ],
      "source": [
        "total = 0\n",
        "i = 0\n",
        "while i < 10:\n",
        "    total = total + (i + 1)\n",
        "    print(total)\n",
        "    i = i + 1"
      ]
    },
    {
      "cell_type": "code",
      "source": [
        "# break\n",
        "a, b = 213, 5\n",
        "result = str(a // b) + \".\"\n",
        "a = a % b\n",
        "i = 0\n",
        "while i < 10:\n",
        "    # 2 -> 20\n",
        "    a10 = a * 10\n",
        "    # 20 // 7\n",
        "    result = result + str(a10 // b)\n",
        "    print(result)\n",
        "    # 20 % 7\n",
        "    a = a10 % b\n",
        "    if a == 0:\n",
        "        break\n",
        "    i = i + 1"
      ],
      "metadata": {
        "colab": {
          "base_uri": "https://localhost:8080/"
        },
        "id": "isBVTLlt2yR_",
        "outputId": "5783f0e8-59ed-4a3e-9ba1-6257ec3b37f1"
      },
      "execution_count": 7,
      "outputs": [
        {
          "output_type": "stream",
          "name": "stdout",
          "text": [
            "42.6\n"
          ]
        }
      ]
    },
    {
      "cell_type": "code",
      "source": [
        "import random\n",
        "count0, count1 = 0, 0\n",
        "\n",
        "total = 100\n",
        "i = 0\n",
        "while i < total:\n",
        "    n = random.randint(0, 1)\n",
        "    if n == 0:\n",
        "        count0 = count0 + 1\n",
        "    elif n == 1:\n",
        "        count1 = count1 + 1\n",
        "    i = i + 1\n",
        "print(count0, count1)"
      ],
      "metadata": {
        "colab": {
          "base_uri": "https://localhost:8080/"
        },
        "id": "WG5coAf-WWDv",
        "outputId": "de24841a-d8e6-4f08-b25e-d6db9aa7935e"
      },
      "execution_count": 11,
      "outputs": [
        {
          "output_type": "stream",
          "name": "stdout",
          "text": [
            "51 49\n"
          ]
        }
      ]
    },
    {
      "cell_type": "code",
      "source": [
        "# random.randint(0, 9)\n",
        "counts = [0] * 10\n",
        "# counts[0] counts[1] ... counts[9]\n",
        "\n",
        "total = 100\n",
        "i = 0\n",
        "while i < total:\n",
        "    n = random.randint(0, 9)\n",
        "    counts[n] = counts[n] + 1\n",
        "    # print(n, counts)\n",
        "    i = i + 1\n",
        "print(counts)"
      ],
      "metadata": {
        "colab": {
          "base_uri": "https://localhost:8080/"
        },
        "id": "FuWkEJ2XW0Rd",
        "outputId": "0020b9ea-b30a-481d-992b-415a924010d5"
      },
      "execution_count": 19,
      "outputs": [
        {
          "output_type": "stream",
          "name": "stdout",
          "text": [
            "[14, 14, 15, 10, 9, 8, 10, 9, 6, 5]\n"
          ]
        }
      ]
    },
    {
      "cell_type": "code",
      "source": [
        "# random.randint(0, 9)\n",
        "low, high = 5, 7\n",
        "counts = [0] * (high - low + 1)\n",
        "\n",
        "total = 100\n",
        "i = 0\n",
        "while i < total:\n",
        "    n = random.randint(low, high)\n",
        "    counts[n-low] = counts[n-low] + 1\n",
        "    # print(n, counts)\n",
        "    i = i + 1\n",
        "print(counts)"
      ],
      "metadata": {
        "colab": {
          "base_uri": "https://localhost:8080/"
        },
        "id": "C8_fik1zbzuJ",
        "outputId": "f4922fb5-0492-4660-eb19-9652b74cad4a"
      },
      "execution_count": 21,
      "outputs": [
        {
          "output_type": "stream",
          "name": "stdout",
          "text": [
            "[30, 36, 34]\n"
          ]
        }
      ]
    },
    {
      "cell_type": "code",
      "source": [
        "scores = [20, 30]\n",
        "scores[0] = scores[0] + 20\n",
        "print(scores)"
      ],
      "metadata": {
        "colab": {
          "base_uri": "https://localhost:8080/"
        },
        "id": "pS4Dkqy1Z--T",
        "outputId": "586e09ea-b110-4116-a86a-df6d2bc4e238"
      },
      "execution_count": 14,
      "outputs": [
        {
          "output_type": "stream",
          "name": "stdout",
          "text": [
            "[40, 30]\n"
          ]
        }
      ]
    },
    {
      "cell_type": "markdown",
      "source": [
        "\n",
        "\n",
        "```\n",
        "編碼:\n",
        "\"a\" -> 0101011\n",
        "解碼:\n",
        "0101011 -> \"a\"\n",
        "\n",
        "ASCII編碼\n",
        "\n",
        "```\n",
        "\n"
      ],
      "metadata": {
        "id": "E56N6peadUD3"
      }
    },
    {
      "cell_type": "code",
      "source": [
        "s = \"appleahy\"\n",
        "counts = [0] * 26\n",
        "\n",
        "i = 0\n",
        "while i < len(s):\n",
        "    n = ord(s[i]) - ord(\"a\")\n",
        "    counts[n] = counts[n] + 1\n",
        "    i = i + 1\n",
        "print(counts)"
      ],
      "metadata": {
        "colab": {
          "base_uri": "https://localhost:8080/"
        },
        "id": "T7KxHuvbc0dX",
        "outputId": "827dfdea-6407-4a36-b066-efc88abe89e9"
      },
      "execution_count": 27,
      "outputs": [
        {
          "output_type": "stream",
          "name": "stdout",
          "text": [
            "[2, 0, 0, 0, 1, 0, 0, 1, 0, 0, 0, 1, 0, 0, 0, 2, 0, 0, 0, 0, 0, 0, 0, 0, 1, 0]\n"
          ]
        }
      ]
    },
    {
      "cell_type": "code",
      "source": [
        "print(\"編碼:\", ord(\"a\"))\n",
        "print(\"解碼:\", chr(97))"
      ],
      "metadata": {
        "colab": {
          "base_uri": "https://localhost:8080/"
        },
        "id": "ehhLdaaDegmk",
        "outputId": "042861da-5871-4319-b459-519ee34bb5ca"
      },
      "execution_count": 25,
      "outputs": [
        {
          "output_type": "stream",
          "name": "stdout",
          "text": [
            "編碼: 97\n",
            "解碼: a\n"
          ]
        }
      ]
    },
    {
      "cell_type": "markdown",
      "source": [
        "![未命名.png](data:image/png;base64,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)"
      ],
      "metadata": {
        "id": "ymqF2uhLoEdc"
      }
    },
    {
      "cell_type": "code",
      "source": [
        "# 逼近法\n",
        "# degree = pi / 180 radian\n",
        "import math\n",
        "\n",
        "start = 100000000\n",
        "test = 20\n",
        "i = 0\n",
        "while i < test:\n",
        "    # 正n邊形的面積\n",
        "    n = start + i\n",
        "    degree = 180 / n\n",
        "    radian = math.radians(degree)\n",
        "    # 單一三角形面積\n",
        "    area1 = math.sin(radian) * math.cos(radian)\n",
        "    # 正n邊形面積\n",
        "    area = n * area1\n",
        "    print(\"正\", n, \"邊形的面積:\", area)\n",
        "    i = i + 1"
      ],
      "metadata": {
        "colab": {
          "base_uri": "https://localhost:8080/"
        },
        "id": "N13cpCHEn917",
        "outputId": "873f7e9f-957e-457b-9623-26016845e403"
      },
      "execution_count": 35,
      "outputs": [
        {
          "output_type": "stream",
          "name": "stdout",
          "text": [
            "正 100000000 邊形的面積: 3.141592653589791\n",
            "正 100000001 邊形的面積: 3.1415926535897913\n",
            "正 100000002 邊形的面積: 3.141592653589791\n",
            "正 100000003 邊形的面積: 3.1415926535897913\n",
            "正 100000004 邊形的面積: 3.1415926535897913\n",
            "正 100000005 邊形的面積: 3.141592653589791\n",
            "正 100000006 邊形的面積: 3.1415926535897913\n",
            "正 100000007 邊形的面積: 3.1415926535897913\n",
            "正 100000008 邊形的面積: 3.141592653589791\n",
            "正 100000009 邊形的面積: 3.141592653589791\n",
            "正 100000010 邊形的面積: 3.141592653589791\n",
            "正 100000011 邊形的面積: 3.1415926535897913\n",
            "正 100000012 邊形的面積: 3.141592653589791\n",
            "正 100000013 邊形的面積: 3.141592653589791\n",
            "正 100000014 邊形的面積: 3.141592653589791\n",
            "正 100000015 邊形的面積: 3.141592653589791\n",
            "正 100000016 邊形的面積: 3.1415926535897913\n",
            "正 100000017 邊形的面積: 3.1415926535897913\n",
            "正 100000018 邊形的面積: 3.141592653589791\n",
            "正 100000019 邊形的面積: 3.1415926535897913\n"
          ]
        }
      ]
    }
  ]
}