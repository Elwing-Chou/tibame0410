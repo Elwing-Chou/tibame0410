{
  "nbformat": 4,
  "nbformat_minor": 0,
  "metadata": {
    "colab": {
      "provenance": [],
      "authorship_tag": "ABX9TyP27MUWj4YDJvFvaR5xyP82",
      "include_colab_link": true
    },
    "kernelspec": {
      "name": "python3",
      "display_name": "Python 3"
    },
    "language_info": {
      "name": "python"
    }
  },
  "cells": [
    {
      "cell_type": "markdown",
      "metadata": {
        "id": "view-in-github",
        "colab_type": "text"
      },
      "source": [
        "<a href=\"https://colab.research.google.com/github/Elwing-Chou/tibame0410/blob/main/tibame_0411_2.ipynb\" target=\"_parent\"><img src=\"https://colab.research.google.com/assets/colab-badge.svg\" alt=\"Open In Colab\"/></a>"
      ]
    },
    {
      "cell_type": "markdown",
      "source": [
        "\n",
        "\n",
        "```\n",
        "紀錄東西\n",
        "!!! 腦子裡記得的東西要準備在迴圈外面\n",
        "```\n",
        "\n"
      ],
      "metadata": {
        "id": "fduDKC8m0C4m"
      }
    },
    {
      "cell_type": "code",
      "execution_count": 2,
      "metadata": {
        "colab": {
          "base_uri": "https://localhost:8080/"
        },
        "id": "tUiY-2sRz7Dk",
        "outputId": "8c13703b-6ac3-4bb6-dcbe-ffbbd9896ea2"
      },
      "outputs": [
        {
          "output_type": "stream",
          "name": "stdout",
          "text": [
            "1\n",
            "2\n",
            "3\n",
            "4\n",
            "5\n",
            "6\n",
            "7\n",
            "8\n",
            "9\n",
            "10\n"
          ]
        }
      ],
      "source": [
        "total = 0\n",
        "i = 0\n",
        "while i < 10:\n",
        "    total = total + (i + 1)\n",
        "    print(total)\n",
        "    i = i + 1"
      ]
    },
    {
      "cell_type": "code",
      "source": [
        "# break\n",
        "a, b = 213, 5\n",
        "result = str(a // b) + \".\"\n",
        "a = a % b\n",
        "i = 0\n",
        "while i < 10:\n",
        "    # 2 -> 20\n",
        "    a10 = a * 10\n",
        "    # 20 // 7\n",
        "    result = result + str(a10 // b)\n",
        "    print(result)\n",
        "    # 20 % 7\n",
        "    a = a10 % b\n",
        "    if a == 0:\n",
        "        break\n",
        "    i = i + 1"
      ],
      "metadata": {
        "colab": {
          "base_uri": "https://localhost:8080/"
        },
        "id": "isBVTLlt2yR_",
        "outputId": "5783f0e8-59ed-4a3e-9ba1-6257ec3b37f1"
      },
      "execution_count": 7,
      "outputs": [
        {
          "output_type": "stream",
          "name": "stdout",
          "text": [
            "42.6\n"
          ]
        }
      ]
    },
    {
      "cell_type": "code",
      "source": [
        "import random\n",
        "count0, count1 = 0, 0\n",
        "\n",
        "total = 100\n",
        "i = 0\n",
        "while i < total:\n",
        "    n = random.randint(0, 1)\n",
        "    if n == 0:\n",
        "        count0 = count0 + 1\n",
        "    elif n == 1:\n",
        "        count1 = count1 + 1\n",
        "    i = i + 1\n",
        "print(count0, count1)"
      ],
      "metadata": {
        "colab": {
          "base_uri": "https://localhost:8080/"
        },
        "id": "WG5coAf-WWDv",
        "outputId": "de24841a-d8e6-4f08-b25e-d6db9aa7935e"
      },
      "execution_count": 11,
      "outputs": [
        {
          "output_type": "stream",
          "name": "stdout",
          "text": [
            "51 49\n"
          ]
        }
      ]
    },
    {
      "cell_type": "code",
      "source": [
        "# random.randint(0, 9)\n",
        "counts = [0] * 10\n",
        "i = 0\n",
        "while i < 100:\n",
        "    n = random.randint(0, 9)\n",
        "    counts[n] = counts[n] + 1\n",
        "    # print(n, counts)\n",
        "    i = i + 1\n",
        "print(counts)"
      ],
      "metadata": {
        "colab": {
          "base_uri": "https://localhost:8080/"
        },
        "id": "FuWkEJ2XW0Rd",
        "outputId": "ce7c5cfd-d342-4dd6-e8b9-eb556feec914"
      },
      "execution_count": 18,
      "outputs": [
        {
          "output_type": "stream",
          "name": "stdout",
          "text": [
            "[10, 12, 13, 6, 7, 6, 12, 11, 8, 15]\n"
          ]
        }
      ]
    },
    {
      "cell_type": "code",
      "source": [
        "scores = [20, 30]\n",
        "scores[0] = scores[0] + 20\n",
        "print(scores)"
      ],
      "metadata": {
        "colab": {
          "base_uri": "https://localhost:8080/"
        },
        "id": "pS4Dkqy1Z--T",
        "outputId": "586e09ea-b110-4116-a86a-df6d2bc4e238"
      },
      "execution_count": 14,
      "outputs": [
        {
          "output_type": "stream",
          "name": "stdout",
          "text": [
            "[40, 30]\n"
          ]
        }
      ]
    }
  ]
}