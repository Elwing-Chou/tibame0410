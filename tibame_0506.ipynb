{
  "nbformat": 4,
  "nbformat_minor": 0,
  "metadata": {
    "colab": {
      "provenance": [],
      "authorship_tag": "ABX9TyOA9CryK5xubW7ApYNdBuy7",
      "include_colab_link": true
    },
    "kernelspec": {
      "name": "python3",
      "display_name": "Python 3"
    },
    "language_info": {
      "name": "python"
    }
  },
  "cells": [
    {
      "cell_type": "markdown",
      "metadata": {
        "id": "view-in-github",
        "colab_type": "text"
      },
      "source": [
        "<a href=\"https://colab.research.google.com/github/Elwing-Chou/tibame0410/blob/main/tibame_0506.ipynb\" target=\"_parent\"><img src=\"https://colab.research.google.com/assets/colab-badge.svg\" alt=\"Open In Colab\"/></a>"
      ]
    },
    {
      "cell_type": "markdown",
      "source": [
        "```\n",
        "密碼學\n",
        "1. 凱薩密碼: 寫的時候固定往後位移\n",
        "\n",
        "2. 維吉尼亞密碼:\n",
        "a b c d .... z\n",
        "d z f g\n",
        "26 * 25 * 24 * 23 ... 1 = 26!\n",
        "數字母出現次數: 字母頻率\n",
        "\n",
        "3.Enigma\n",
        "對照表1: a-z->轉換\n",
        "     2\n",
        "     3\n",
        "     4\n",
        "     5\n",
        "\n",
        "apple\n",
        "123451\n",
        "\n",
        "Alan Turing(圖靈): 模仿遊戲\n",
        "```"
      ],
      "metadata": {
        "id": "ULG6f0VaV10m"
      }
    },
    {
      "cell_type": "code",
      "execution_count": 3,
      "metadata": {
        "colab": {
          "base_uri": "https://localhost:8080/"
        },
        "id": "qXspvmwwVwou",
        "outputId": "d94d5ed9-2e26-4d02-a6a3-b054eb7bea56"
      },
      "outputs": [
        {
          "output_type": "stream",
          "name": "stdout",
          "text": [
            "a 出現 1 次\n",
            "b 出現 0 次\n",
            "c 出現 0 次\n",
            "d 出現 0 次\n",
            "e 出現 2 次\n",
            "f 出現 1 次\n",
            "g 出現 0 次\n",
            "h 出現 0 次\n",
            "i 出現 0 次\n",
            "j 出現 0 次\n",
            "k 出現 0 次\n",
            "l 出現 0 次\n",
            "m 出現 0 次\n",
            "n 出現 0 次\n",
            "o 出現 0 次\n",
            "p 出現 0 次\n",
            "q 出現 2 次\n",
            "r 出現 2 次\n",
            "s 出現 0 次\n",
            "t 出現 0 次\n",
            "u 出現 0 次\n",
            "v 出現 0 次\n",
            "w 出現 2 次\n",
            "x 出現 0 次\n",
            "y 出現 0 次\n",
            "z 出現 0 次\n"
          ]
        }
      ],
      "source": [
        "s = \"aerqwrqwef\"\n",
        "counts = [0] * 26\n",
        "i = 0\n",
        "while i < len(s):\n",
        "    c = s[i]\n",
        "    # print(c)\n",
        "    # 事實上你的字母存在你的電腦\n",
        "    # ASCII編碼: a->0101010\n",
        "    # ord(\"a\") -> 97\n",
        "    n = ord(c) - ord(\"a\")\n",
        "    # 轉換成編碼, 然後統計出現次數\n",
        "    counts[n] = counts[n] + 1\n",
        "    # print(c, n, counts)\n",
        "    i = i + 1\n",
        "# 幫我印的漂亮點(26次的迴圈)\n",
        "# a: 3次\n",
        "i = 0\n",
        "while i < 26:\n",
        "    n = counts[i]\n",
        "    alpha = chr(i + ord(\"a\"))\n",
        "    print(alpha, \"出現\", n, \"次\")\n",
        "    i = i + 1"
      ]
    },
    {
      "cell_type": "code",
      "source": [
        "import random\n",
        "\n",
        "count = 0\n",
        "total = 1000000\n",
        "i = 0\n",
        "while i < total:\n",
        "    # 隨機一個(x, y)在我的正方形李\n",
        "    # -1 <= x, y <= 1\n",
        "    x = random.uniform(-1, 1)\n",
        "    y = random.uniform(-1, 1)\n",
        "    # 判斷這個隨機的點在園裡面\n",
        "    # 更新次數\n",
        "    if x ** 2 + y ** 2 <= 1:\n",
        "        count = count + 1\n",
        "    i = i + 1\n",
        "# 正方形面積: 4\n",
        "# 圓形面積: (落到裡面/全部) * 正方形面積\n",
        "ratio = count / total\n",
        "area = ratio * 4\n",
        "print(area)"
      ],
      "metadata": {
        "colab": {
          "base_uri": "https://localhost:8080/"
        },
        "id": "HHCEI1XShB2D",
        "outputId": "d891f295-5d2a-4655-86df-a6206bd5d83b"
      },
      "execution_count": 7,
      "outputs": [
        {
          "output_type": "stream",
          "name": "stdout",
          "text": [
            "3.141212\n"
          ]
        }
      ]
    },
    {
      "cell_type": "markdown",
      "source": [
        "\n",
        "\n",
        "```\n",
        "迴圈part3\n",
        "其他條件: while後面填入正確\n",
        "\n",
        "布林型態(是否型態): True False\n",
        "1. 不: if not a == 3\n",
        "2. 組合: 而且(and) 或者(or)\n",
        "\n",
        "```\n",
        "\n"
      ],
      "metadata": {
        "id": "2nIu02IRmlZO"
      }
    },
    {
      "cell_type": "code",
      "source": [
        "import random\n",
        "\n",
        "# -1: lose 0: even 1: win\n",
        "trans = [\"lose\", \"even\", \"win\"]\n",
        "win, even, lose = 0, 0, 0\n",
        "while (win < 3) and (lose < 3):\n",
        "    result = random.randint(-1, 1)\n",
        "    print(trans[result+1])\n",
        "    if result == -1:\n",
        "        lose = lose + 1\n",
        "    elif result == 0:\n",
        "        even = even + 1\n",
        "    elif result == 1:\n",
        "        win = win + 1\n",
        "\n",
        "if win > lose:\n",
        "    print(\"總體win\")\n",
        "else:\n",
        "    print(\"總體lose\")"
      ],
      "metadata": {
        "colab": {
          "base_uri": "https://localhost:8080/"
        },
        "id": "kcyDKNmJmzAr",
        "outputId": "b300d352-dcba-4593-81ac-88dabac80f6a"
      },
      "execution_count": 13,
      "outputs": [
        {
          "output_type": "stream",
          "name": "stdout",
          "text": [
            "even\n",
            "lose\n",
            "win\n",
            "win\n",
            "even\n",
            "win\n",
            "總體win\n"
          ]
        }
      ]
    }
  ]
}