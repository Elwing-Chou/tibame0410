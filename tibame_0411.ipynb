{
  "nbformat": 4,
  "nbformat_minor": 0,
  "metadata": {
    "colab": {
      "provenance": [],
      "authorship_tag": "ABX9TyMw/jirT47/Nh1w+Q/XhO8S",
      "include_colab_link": true
    },
    "kernelspec": {
      "name": "python3",
      "display_name": "Python 3"
    },
    "language_info": {
      "name": "python"
    }
  },
  "cells": [
    {
      "cell_type": "markdown",
      "metadata": {
        "id": "view-in-github",
        "colab_type": "text"
      },
      "source": [
        "<a href=\"https://colab.research.google.com/github/Elwing-Chou/tibame0410/blob/main/tibame_0411.ipynb\" target=\"_parent\"><img src=\"https://colab.research.google.com/assets/colab-badge.svg\" alt=\"Open In Colab\"/></a>"
      ]
    },
    {
      "cell_type": "markdown",
      "source": [
        "\n",
        "\n",
        "```\n",
        "數次數的迴圈\n",
        "\n",
        "從0...9就數十次了\n",
        "\n",
        "計數器\n",
        "1. 初始值: i = 0\n",
        "2. 增加: i = i + 1\n",
        "3. 判斷: i < 10\n",
        "\n",
        "i = 0\n",
        "while i < 10:\n",
        "    print(\"hello\")\n",
        "    i = i + 1\n",
        "\n",
        "* 養成好習慣, 這三條絕對不動\n",
        "** 次數會在<後面, i=0...次-1\n",
        "\n",
        "印什麼是另外一件事\n",
        "1. 1...10: i+1\n",
        "2. 10...1: 10-i\n",
        "3. 1 3 5...: 2*i+1\n",
        "\n",
        "\n",
        "```\n",
        "\n"
      ],
      "metadata": {
        "id": "V5LpmojwZrc6"
      }
    },
    {
      "cell_type": "code",
      "source": [
        "i = 0\n",
        "while i < 10:\n",
        "    print(i + 1,\n",
        "       10 - i,\n",
        "       2 * i + 1)\n",
        "    i = i + 1"
      ],
      "metadata": {
        "colab": {
          "base_uri": "https://localhost:8080/"
        },
        "id": "LpHqZF9kZnbq",
        "outputId": "b794a98c-be84-49da-c21c-e0a0fcf1ca9a"
      },
      "execution_count": 6,
      "outputs": [
        {
          "output_type": "stream",
          "name": "stdout",
          "text": [
            "1 10 1\n",
            "2 9 3\n",
            "3 8 5\n",
            "4 7 7\n",
            "5 6 9\n",
            "6 5 11\n",
            "7 4 13\n",
            "8 3 15\n",
            "9 2 17\n",
            "10 1 19\n"
          ]
        }
      ]
    },
    {
      "cell_type": "code",
      "source": [
        "# *\n",
        "# **\n",
        "# ***\n",
        "i = 0\n",
        "while i < 10:\n",
        "    print(\"o\" * (i + 1))\n",
        "    i = i + 1"
      ],
      "metadata": {
        "id": "fdXUzj9lgu8U"
      },
      "execution_count": null,
      "outputs": []
    },
    {
      "cell_type": "code",
      "source": [
        "# xxxx\n",
        "# oxxx\n",
        "# ooxx\n",
        "# ooox\n",
        "left, right = \" \", \"x\"\n",
        "layer = 10\n",
        "i = 0\n",
        "while i < layer:\n",
        "    lcount = i\n",
        "    rcount = layer - i\n",
        "    print(left * lcount + right * rcount)\n",
        "    i = i + 1"
      ],
      "metadata": {
        "id": "Dwu8pRgjhNqC"
      },
      "execution_count": null,
      "outputs": []
    },
    {
      "cell_type": "code",
      "source": [
        "# ___o\n",
        "# __xx\n",
        "# _ooo\n",
        "# xxxx\n",
        "# 二個符號, 輪流用\n",
        "layer = 10\n",
        "i = 0\n",
        "while i < layer:\n",
        "    if i % 2 == 0:\n",
        "        left, right = \" \", \"o\"\n",
        "    else:\n",
        "        left, right = \" \", \"x\"\n",
        "\n",
        "    lcount = layer - i - 1\n",
        "    rcount = i + 1\n",
        "    print(left * lcount + right * rcount)\n",
        "    i = i + 1"
      ],
      "metadata": {
        "colab": {
          "base_uri": "https://localhost:8080/"
        },
        "id": "_iVLQebJlivl",
        "outputId": "a631d61c-283c-4052-a06d-470786243e14"
      },
      "execution_count": 13,
      "outputs": [
        {
          "output_type": "stream",
          "name": "stdout",
          "text": [
            "         o\n",
            "        xx\n",
            "       ooo\n",
            "      xxxx\n",
            "     ooooo\n",
            "    xxxxxx\n",
            "   ooooooo\n",
            "  xxxxxxxx\n",
            " ooooooooo\n",
            "xxxxxxxxxx\n"
          ]
        }
      ]
    },
    {
      "cell_type": "code",
      "source": [
        "# optional\n",
        "# 四個符號, 輪流用\n",
        "symbols = [\"o\", \"x\", \"*\", \"?\"]\n",
        "layer = 10\n",
        "i = 0\n",
        "while i < layer:\n",
        "    left, right = \" \", symbols[i%len(symbols)]\n",
        "\n",
        "    lcount = layer - i - 1\n",
        "    rcount = i + 1\n",
        "    print(left * lcount + right * rcount)\n",
        "    i = i + 1"
      ],
      "metadata": {
        "id": "mPPoCzlvl9Rt"
      },
      "execution_count": null,
      "outputs": []
    },
    {
      "cell_type": "code",
      "source": [
        "# optional\n",
        "# 四個符號, 輪流用\n",
        "lsymbols = [\"o\", \"x\", \"*\", \"?\"]\n",
        "rsymbols = [\" \"]\n",
        "layer = 10\n",
        "i = 0\n",
        "while i < layer:\n",
        "    left, right = lsymbols[i%len(lsymbols)], rsymbols[i%len(rsymbols)]\n",
        "\n",
        "    lcount = layer - i\n",
        "    rcount = i\n",
        "    print(left * lcount + right * rcount)\n",
        "    i = i + 1"
      ],
      "metadata": {
        "colab": {
          "base_uri": "https://localhost:8080/"
        },
        "id": "GMicgafZuu5g",
        "outputId": "3d39ee47-4167-40b2-f639-ba2f14d17902"
      },
      "execution_count": 16,
      "outputs": [
        {
          "output_type": "stream",
          "name": "stdout",
          "text": [
            "oooooooooo\n",
            "xxxxxxxxx \n",
            "********  \n",
            "???????   \n",
            "oooooo    \n",
            "xxxxx     \n",
            "****      \n",
            "???       \n",
            "oo        \n",
            "x         \n"
          ]
        }
      ]
    },
    {
      "cell_type": "code",
      "source": [
        "# xxxxx\n",
        "# _xxx_\n",
        "# __x__\n",
        "left, mid, right = \" \", \"x\", \" \"\n",
        "layer = 10\n",
        "i = 0\n",
        "while i < layer:\n",
        "    lcount = i\n",
        "    mcount = (2 * layer - 1) - 2 * i\n",
        "    rcount = i\n",
        "    print(left * lcount +\n",
        "       mid * mcount +\n",
        "       right * rcount)\n",
        "    i = i + 1"
      ],
      "metadata": {
        "colab": {
          "base_uri": "https://localhost:8080/"
        },
        "id": "kZMoobeOl6i1",
        "outputId": "24c43288-8770-45d5-8465-d72fe5b5ce6f"
      },
      "execution_count": 18,
      "outputs": [
        {
          "output_type": "stream",
          "name": "stdout",
          "text": [
            "xxxxxxxxxxxxxxxxxxx\n",
            " xxxxxxxxxxxxxxxxx \n",
            "  xxxxxxxxxxxxxxx  \n",
            "   xxxxxxxxxxxxx   \n",
            "    xxxxxxxxxxx    \n",
            "     xxxxxxxxx     \n",
            "      xxxxxxx      \n",
            "       xxxxx       \n",
            "        xxx        \n",
            "         x         \n"
          ]
        }
      ]
    }
  ]
}