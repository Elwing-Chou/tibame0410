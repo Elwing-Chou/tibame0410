{
  "nbformat": 4,
  "nbformat_minor": 0,
  "metadata": {
    "colab": {
      "provenance": [],
      "authorship_tag": "ABX9TyOkSXSJSPbQXPLKCNGYUnSd",
      "include_colab_link": true
    },
    "kernelspec": {
      "name": "python3",
      "display_name": "Python 3"
    },
    "language_info": {
      "name": "python"
    }
  },
  "cells": [
    {
      "cell_type": "markdown",
      "metadata": {
        "id": "view-in-github",
        "colab_type": "text"
      },
      "source": [
        "<a href=\"https://colab.research.google.com/github/Elwing-Chou/tibame0410/blob/main/tibame_0411.ipynb\" target=\"_parent\"><img src=\"https://colab.research.google.com/assets/colab-badge.svg\" alt=\"Open In Colab\"/></a>"
      ]
    },
    {
      "cell_type": "markdown",
      "source": [
        "\n",
        "\n",
        "```\n",
        "數次數的迴圈\n",
        "\n",
        "從0...9就數十次了\n",
        "\n",
        "計數器\n",
        "1. 初始值: i = 0\n",
        "2. 增加: i = i + 1\n",
        "3. 判斷: i < 10\n",
        "\n",
        "i = 0\n",
        "while i < 10:\n",
        "    print(\"hello\")\n",
        "    i = i + 1\n",
        "\n",
        "* 養成好習慣, 這三條絕對不動\n",
        "** 次數會在<後面, i=0...次-1\n",
        "\n",
        "印什麼是另外一件事\n",
        "1. 1...10: i+1\n",
        "2. 10...1: 10-i\n",
        "3. 1 3 5...: 2*i+1\n",
        "\n",
        "\n",
        "```\n",
        "\n"
      ],
      "metadata": {
        "id": "V5LpmojwZrc6"
      }
    },
    {
      "cell_type": "code",
      "source": [
        "i = 0\n",
        "while i < 10:\n",
        "    print(i + 1,\n",
        "       10 - i,\n",
        "       2 * i + 1)\n",
        "    i = i + 1"
      ],
      "metadata": {
        "colab": {
          "base_uri": "https://localhost:8080/"
        },
        "id": "LpHqZF9kZnbq",
        "outputId": "b794a98c-be84-49da-c21c-e0a0fcf1ca9a"
      },
      "execution_count": 6,
      "outputs": [
        {
          "output_type": "stream",
          "name": "stdout",
          "text": [
            "1 10 1\n",
            "2 9 3\n",
            "3 8 5\n",
            "4 7 7\n",
            "5 6 9\n",
            "6 5 11\n",
            "7 4 13\n",
            "8 3 15\n",
            "9 2 17\n",
            "10 1 19\n"
          ]
        }
      ]
    }
  ]
}