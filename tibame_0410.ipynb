{
  "nbformat": 4,
  "nbformat_minor": 0,
  "metadata": {
    "colab": {
      "provenance": [],
      "authorship_tag": "ABX9TyPMVWNxSO2PvjUroG2uaSJ+",
      "include_colab_link": true
    },
    "kernelspec": {
      "name": "python3",
      "display_name": "Python 3"
    },
    "language_info": {
      "name": "python"
    }
  },
  "cells": [
    {
      "cell_type": "markdown",
      "metadata": {
        "id": "view-in-github",
        "colab_type": "text"
      },
      "source": [
        "<a href=\"https://colab.research.google.com/github/Elwing-Chou/tibame0410/blob/main/tibame_0410.ipynb\" target=\"_parent\"><img src=\"https://colab.research.google.com/assets/colab-badge.svg\" alt=\"Open In Colab\"/></a>"
      ]
    },
    {
      "cell_type": "markdown",
      "source": [
        "\n",
        "\n",
        "```\n",
        "1. repl.it: 標準python檔案, .py作為結尾, 執行是從頭到尾\n",
        "2. colab: python工具(jupyter notebook), ipynb作為結尾\n",
        "```\n",
        "\n"
      ],
      "metadata": {
        "id": "DIJvtYEOV9JR"
      }
    },
    {
      "cell_type": "markdown",
      "source": [
        "latex(數學)語法\n",
        "\n",
        "$ sum = \\sum_{i=1}^{10} \\frac{i}{2} $"
      ],
      "metadata": {
        "id": "vZjKnD9CYJLh"
      }
    },
    {
      "cell_type": "markdown",
      "source": [
        "\n",
        "\n",
        "```\n",
        "1. 註解: # xxxx\n",
        "2. 功能(function): print(xxxx)\n",
        "  * 沒有參數: xxxx()\n",
        "3. 不要重複寫: 延伸後面很多語法(函式定義/物件導向)\n",
        "4. =: 名稱 = value\n",
        "  a. 5 == 3 + 2(左右是否相等)\n",
        "  b. x = 2(取代)\n",
        "\n",
        "5. 型態(type):\n",
        "  a. 數字: python會自動幫你畫分兩種 整數(int) 小數(float)\n",
        "  b. 字串: str, 記得用\"\"把文字括起來\n",
        "\n",
        "6. 型態轉換: str() int() float()\n",
        "\n",
        "7. input(參數字串)\n",
        "  * 一個功能:\n",
        "   a. 參數  \n",
        "   b. 回傳值(做完這個功能以後得到的一個\"新的\"結果): check type(str)\n",
        "  * 一個值只有在做=以後才會改\n",
        "```\n",
        "\n"
      ],
      "metadata": {
        "id": "PaN4Nr88g6LS"
      }
    },
    {
      "cell_type": "code",
      "execution_count": 26,
      "metadata": {
        "id": "ZIll5O5yU1Mt",
        "colab": {
          "base_uri": "https://localhost:8080/"
        },
        "outputId": "3f760f07-0fc4-4afa-e3ba-ce43b4dd7d33"
      },
      "outputs": [
        {
          "output_type": "stream",
          "name": "stdout",
          "text": [
            "你今天吃多少蛋白質:160.2\n",
            "你今天吃多少脂肪:75.2\n",
            "你今天吃多少碳水:235\n",
            "蛋白質:160.2\n",
            "脂肪:75.2\n",
            "碳水化合物:235.0\n",
            "總卡路里:2257.6\n"
          ]
        }
      ],
      "source": [
        "# calorie = protein * 4 + fat * 9 + carbon * 4\n",
        "protein = float(input(\"你今天吃多少蛋白質:\"))\n",
        "fat = float(input(\"你今天吃多少脂肪:\"))\n",
        "carbon = float(input(\"你今天吃多少碳水:\"))\n",
        "calorie = protein * 4 + fat * 9 + carbon * 4\n",
        "\n",
        "print(\"蛋白質:\" + str(protein))\n",
        "print(\"脂肪:\" + str(fat))\n",
        "print(\"碳水化合物:\" + str(carbon))\n",
        "print(\"總卡路里:\" + str(calorie))"
      ]
    },
    {
      "cell_type": "markdown",
      "source": [
        "\n",
        "\n",
        "```\n",
        "\"小數\" -> \"數數\"\n",
        "\n",
        "十進位數數: 0...9 10\n",
        "六進位數數: 0...5 10..15 50...55 100\n",
        "二進位數數: 0 1 10 11 100 101 110 111 1000\n",
        "\n",
        "整數一定可以無痛轉換\n",
        "小數有誤差是正常的\n",
        "\n",
        "一塊Pizaa / 3\n",
        "1. 十進位: 0.33333333\n",
        "2. 三進位: 0.1\n",
        "```\n",
        "\n"
      ],
      "metadata": {
        "id": "OhKglx6Int_t"
      }
    },
    {
      "cell_type": "code",
      "source": [
        "3 + 3.14"
      ],
      "metadata": {
        "colab": {
          "base_uri": "https://localhost:8080/"
        },
        "id": "WC5Ty4Tvm8Q4",
        "outputId": "e56b2e45-d1a6-4c21-9b43-7de387cf1575"
      },
      "execution_count": 9,
      "outputs": [
        {
          "output_type": "execute_result",
          "data": {
            "text/plain": [
              "6.140000000000001"
            ]
          },
          "metadata": {},
          "execution_count": 9
        }
      ]
    },
    {
      "cell_type": "code",
      "source": [
        "a = 4.6\n",
        "b = int(a)\n",
        "print(a)\n",
        "print(b)"
      ],
      "metadata": {
        "colab": {
          "base_uri": "https://localhost:8080/"
        },
        "id": "y56kDCtcwfRP",
        "outputId": "10f5f51a-8bda-4b49-cc87-0589de3aa0b2"
      },
      "execution_count": 20,
      "outputs": [
        {
          "output_type": "stream",
          "name": "stdout",
          "text": [
            "4.6\n",
            "4\n"
          ]
        }
      ]
    }
  ]
}