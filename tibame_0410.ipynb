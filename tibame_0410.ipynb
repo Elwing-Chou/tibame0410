{
  "nbformat": 4,
  "nbformat_minor": 0,
  "metadata": {
    "colab": {
      "provenance": [],
      "authorship_tag": "ABX9TyMNx6nZ/HqGRixHLAXjcTAn",
      "include_colab_link": true
    },
    "kernelspec": {
      "name": "python3",
      "display_name": "Python 3"
    },
    "language_info": {
      "name": "python"
    }
  },
  "cells": [
    {
      "cell_type": "markdown",
      "metadata": {
        "id": "view-in-github",
        "colab_type": "text"
      },
      "source": [
        "<a href=\"https://colab.research.google.com/github/Elwing-Chou/tibame0410/blob/main/tibame_0410.ipynb\" target=\"_parent\"><img src=\"https://colab.research.google.com/assets/colab-badge.svg\" alt=\"Open In Colab\"/></a>"
      ]
    },
    {
      "cell_type": "markdown",
      "source": [
        "\n",
        "\n",
        "```\n",
        "1. repl.it: 標準python檔案, .py作為結尾, 執行是從頭到尾\n",
        "2. colab: python工具(jupyter notebook), ipynb作為結尾\n",
        "```\n",
        "\n"
      ],
      "metadata": {
        "id": "DIJvtYEOV9JR"
      }
    },
    {
      "cell_type": "markdown",
      "source": [
        "latex(數學)語法\n",
        "\n",
        "$ sum = \\sum_{i=1}^{10} \\frac{i}{2} $"
      ],
      "metadata": {
        "id": "vZjKnD9CYJLh"
      }
    },
    {
      "cell_type": "markdown",
      "source": [
        "\n",
        "\n",
        "```\n",
        "1. 註解: # xxxx\n",
        "2. 功能(function): print(xxxx)\n",
        "  * 沒有參數: xxxx()\n",
        "3. 不要重複寫: 延伸後面很多語法(函式定義/物件導向)\n",
        "4. =: 名稱 = value\n",
        "  a. 5 == 3 + 2(左右是否相等)\n",
        "  b. x = 2(取代)\n",
        "```\n",
        "\n"
      ],
      "metadata": {
        "id": "PaN4Nr88g6LS"
      }
    },
    {
      "cell_type": "code",
      "execution_count": 5,
      "metadata": {
        "id": "ZIll5O5yU1Mt",
        "colab": {
          "base_uri": "https://localhost:8080/"
        },
        "outputId": "1303fed4-4f91-4bbb-fa02-22b6db63a74b"
      },
      "outputs": [
        {
          "output_type": "stream",
          "name": "stdout",
          "text": [
            "160\n",
            "75\n",
            "230\n",
            "2235\n"
          ]
        }
      ],
      "source": [
        "# calorie = protein * 4 + fat * 9 + carbon * 4\n",
        "protein = 160\n",
        "fat = 75\n",
        "carbon = 230\n",
        "print(protein)\n",
        "print(fat)\n",
        "print(carbon)\n",
        "print(protein * 4 + fat * 9 + carbon * 4)"
      ]
    }
  ]
}