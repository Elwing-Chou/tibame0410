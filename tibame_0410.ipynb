{
  "nbformat": 4,
  "nbformat_minor": 0,
  "metadata": {
    "colab": {
      "provenance": [],
      "authorship_tag": "ABX9TyP5j4SLky4OcdlVCOb0iI8D",
      "include_colab_link": true
    },
    "kernelspec": {
      "name": "python3",
      "display_name": "Python 3"
    },
    "language_info": {
      "name": "python"
    }
  },
  "cells": [
    {
      "cell_type": "markdown",
      "metadata": {
        "id": "view-in-github",
        "colab_type": "text"
      },
      "source": [
        "<a href=\"https://colab.research.google.com/github/Elwing-Chou/tibame0410/blob/main/tibame_0410.ipynb\" target=\"_parent\"><img src=\"https://colab.research.google.com/assets/colab-badge.svg\" alt=\"Open In Colab\"/></a>"
      ]
    },
    {
      "cell_type": "markdown",
      "source": [
        "\n",
        "\n",
        "```\n",
        "1. repl.it: 標準python檔案, .py作為結尾, 執行是從頭到尾\n",
        "2. colab: python工具(jupyter notebook), ipynb作為結尾\n",
        "```\n",
        "\n"
      ],
      "metadata": {
        "id": "DIJvtYEOV9JR"
      }
    },
    {
      "cell_type": "code",
      "execution_count": null,
      "metadata": {
        "id": "ZIll5O5yU1Mt"
      },
      "outputs": [],
      "source": []
    }
  ]
}