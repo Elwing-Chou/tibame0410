{
  "nbformat": 4,
  "nbformat_minor": 0,
  "metadata": {
    "colab": {
      "provenance": [],
      "authorship_tag": "ABX9TyMHWVXxlkAZZWAkMECJReNn",
      "include_colab_link": true
    },
    "kernelspec": {
      "name": "python3",
      "display_name": "Python 3"
    },
    "language_info": {
      "name": "python"
    }
  },
  "cells": [
    {
      "cell_type": "markdown",
      "metadata": {
        "id": "view-in-github",
        "colab_type": "text"
      },
      "source": [
        "<a href=\"https://colab.research.google.com/github/Elwing-Chou/tibame0410/blob/main/tibame_0428.ipynb\" target=\"_parent\"><img src=\"https://colab.research.google.com/assets/colab-badge.svg\" alt=\"Open In Colab\"/></a>"
      ]
    },
    {
      "cell_type": "code",
      "execution_count": 3,
      "metadata": {
        "id": "xVqyj3oZ9wxN"
      },
      "outputs": [],
      "source": [
        "import bs4 as bs\n",
        "# from...import: 他比普通import可以更深入一點, 直接import功能名字\n",
        "url = \"https://www.ptt.cc/bbs/Beauty/M.1745216140.A.52E.html\"\n"
      ]
    },
    {
      "cell_type": "code",
      "source": [
        "# 內建urllib\n",
        "import urllib.request as req\n",
        "r = req.Request(url)\n",
        "r.add_header(\"User-Agent\", \"xxxxx\")\n",
        "resp = req.urlopen(r)\n",
        "content = resp.read()\n",
        "bs.BeautifulSoup(content)"
      ],
      "metadata": {
        "id": "4T49pjTu_wiK"
      },
      "execution_count": null,
      "outputs": []
    },
    {
      "cell_type": "code",
      "source": [
        "# 第三方requests\n",
        "import requests\n",
        "h = {\n",
        "    \"User-Agent\": \"xxxxx\"\n",
        "}\n",
        "# open->get\n",
        "resp = requests.get(url, headers=h)\n",
        "# read\n",
        "content = resp.text\n",
        "bs.BeautifulSoup(content)\n",
        "# resp.request.headers\n",
        "# resp.headers"
      ],
      "metadata": {
        "colab": {
          "base_uri": "https://localhost:8080/"
        },
        "id": "Q6GzvNcgA_NE",
        "outputId": "d8f28f23-fb23-460a-eb68-ab11d80fb371"
      },
      "execution_count": 7,
      "outputs": [
        {
          "output_type": "execute_result",
          "data": {
            "text/plain": [
              "{'Date': 'Mon, 28 Apr 2025 01:36:35 GMT', 'Content-Type': 'text/html; charset=utf-8', 'Transfer-Encoding': 'chunked', 'Connection': 'keep-alive', 'Cf-Ray': '9372d45d9ee32f15-LAX', 'Server': 'cloudflare', 'Content-Encoding': 'zstd', 'Cache-Control': 'max-age=900s, public', 'Cf-Cache-Status': 'DYNAMIC', 'Vary': 'accept-encoding', 'Report-To': '{\"endpoints\":[{\"url\":\"https:\\\\/\\\\/a.nel.cloudflare.com\\\\/report\\\\/v4?s=RBmT%2FRobU03KdLp4FoEOucNTocYlMEYupaA1GBQDgnRfn8LyUgfuvfVVWSOGn%2B78%2FsAxPBPS66NDgHqZgGELm8vgKE%2B1mxuqMWtLaWyI607qR4BJHlWbTw3talNk\"}],\"group\":\"cf-nel\",\"max_age\":604800}', 'Nel': '{\"success_fraction\":0,\"report_to\":\"cf-nel\",\"max_age\":604800}', 'Strict-Transport-Security': 'max-age=0', 'X-Content-Type-Options': 'nosniff', 'alt-svc': 'h3=\":443\"; ma=86400', 'server-timing': 'cfL4;desc=\"?proto=TCP&rtt=7707&min_rtt=7532&rtt_var=2949&sent=4&recv=6&lost=0&retrans=0&sent_bytes=2824&recv_bytes=783&delivery_rate=384492&cwnd=216&unsent_bytes=0&cid=9bcd42039d2f0a26&ts=236&x=0\"'}"
            ]
          },
          "metadata": {},
          "execution_count": 7
        }
      ]
    }
  ]
}