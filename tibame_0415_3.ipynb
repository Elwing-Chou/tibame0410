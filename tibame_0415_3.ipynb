{
  "nbformat": 4,
  "nbformat_minor": 0,
  "metadata": {
    "colab": {
      "provenance": [],
      "authorship_tag": "ABX9TyNNOnSn+MyQZsZ/STvtWZJI",
      "include_colab_link": true
    },
    "kernelspec": {
      "name": "python3",
      "display_name": "Python 3"
    },
    "language_info": {
      "name": "python"
    }
  },
  "cells": [
    {
      "cell_type": "markdown",
      "metadata": {
        "id": "view-in-github",
        "colab_type": "text"
      },
      "source": [
        "<a href=\"https://colab.research.google.com/github/Elwing-Chou/tibame0410/blob/main/tibame_0415_3.ipynb\" target=\"_parent\"><img src=\"https://colab.research.google.com/assets/colab-badge.svg\" alt=\"Open In Colab\"/></a>"
      ]
    },
    {
      "cell_type": "markdown",
      "source": [
        "WIN: -headers \"Origin: https://ani.gamer.com.tw\" -i \"\" anime.mp4\n",
        "\n",
        "MAC: -headers 'Origin: https://ani.gamer.com.tw' -i '' anime.mp4\n",
        "\n",
        "ffmpeg(用拉的) 複製並且把-i後面的\"\"填入m3u8"
      ],
      "metadata": {
        "id": "ENVyxMmcMdMj"
      }
    },
    {
      "cell_type": "markdown",
      "source": [
        "\n",
        "\n",
        "```\n",
        "編碼: 我 -> 0101010\n",
        "解碼: 01110 -> 我\n",
        "\n",
        "現在只有一套: 萬國碼(Unicode): utf-8\n",
        "\n",
        "因為WIN預設編碼: ANSI 繁體(BIG-5)\n",
        "```\n",
        "\n"
      ],
      "metadata": {
        "id": "mfjHj7LaZSKe"
      }
    },
    {
      "cell_type": "code",
      "source": [
        "f = open(\"a.txt\", \"w\", encoding=\"utf-8\")\n",
        "# 以前: write(f, \"abcde\")\n",
        "# 專屬(型態)功能: f.write(\"abcde\")\n",
        "# 特殊字元(換行/TAB\\backspace)\n",
        "# \\(跳脫字元)字母\n",
        "# \\n: 換行 \\t: TAB\n",
        "f.write(\"abcde\\n\")\n",
        "f.write(\"12345\\n\")\n",
        "# 以前: close(f)\n",
        "# 專屬: f.close()\n",
        "f.close()"
      ],
      "metadata": {
        "id": "jrkMzBI2YfTQ"
      },
      "execution_count": 3,
      "outputs": []
    },
    {
      "cell_type": "code",
      "source": [
        "f = open(\"a.txt\", \"r\", encoding=\"utf-8\")\n",
        "# 以前: content = read(f)\n",
        "# 現在: content = f.read()\n",
        "content = f.read()\n",
        "print(content)\n",
        "f.close()"
      ],
      "metadata": {
        "colab": {
          "base_uri": "https://localhost:8080/"
        },
        "id": "0g7Ydz1SebXg",
        "outputId": "7f27b7b2-f262-4fa6-f931-7cacfb1b4c8b"
      },
      "execution_count": 4,
      "outputs": [
        {
          "output_type": "stream",
          "name": "stdout",
          "text": [
            "abcde\n",
            "12345\n",
            "\n"
          ]
        }
      ]
    }
  ]
}