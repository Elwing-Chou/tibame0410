{
  "nbformat": 4,
  "nbformat_minor": 0,
  "metadata": {
    "colab": {
      "provenance": [],
      "authorship_tag": "ABX9TyNnsRlfQjxTyCo+oYsmMAY2",
      "include_colab_link": true
    },
    "kernelspec": {
      "name": "python3",
      "display_name": "Python 3"
    },
    "language_info": {
      "name": "python"
    }
  },
  "cells": [
    {
      "cell_type": "markdown",
      "metadata": {
        "id": "view-in-github",
        "colab_type": "text"
      },
      "source": [
        "<a href=\"https://colab.research.google.com/github/Elwing-Chou/tibame0410/blob/main/tiba_night_0423.ipynb\" target=\"_parent\"><img src=\"https://colab.research.google.com/assets/colab-badge.svg\" alt=\"Open In Colab\"/></a>"
      ]
    },
    {
      "cell_type": "markdown",
      "source": [
        "\n",
        "\n",
        "```\n",
        "1. 隱藏網址:\n",
        "    - 其實不只一個網址構成, 是由無數網址構成, 那找到你需要的那個網址很重要\n",
        "    - F12\n",
        "2. 網址參數\n",
        "    - 在?後面   參數名=值&參數名=值&...\n",
        "\n",
        "\n",
        "WIN: -headers \"Origin: https://ani.gamer.com.tw\" -i \"\" anime.mp4\n",
        "\n",
        "MAC: -headers 'Origin: https://ani.gamer.com.tw' -i '' anime.mp4\n",
        "\n",
        "ffmpeg(用拉的) 複製並且把-i後面的\"\"填入m3u8\n",
        "\n",
        "```\n",
        "\n"
      ],
      "metadata": {
        "id": "1uXV0qx2aA56"
      }
    },
    {
      "cell_type": "markdown",
      "source": [
        "```\n",
        "list+dict: JSON格式\n",
        "\n",
        "台北所有的展覽:\n",
        "[\n",
        "    {\n",
        "        \"展覽地點\":[\n",
        "            {\"名稱\":\"sxss\"}\n",
        "        ]\n",
        "    }\n",
        "]\n",
        "\n",
        "```\n"
      ],
      "metadata": {
        "id": "la2dw1A2sB0u"
      }
    },
    {
      "cell_type": "code",
      "execution_count": 5,
      "metadata": {
        "colab": {
          "base_uri": "https://localhost:8080/"
        },
        "id": "J-SQeoFtU7ur",
        "outputId": "0b494944-34e4-4c93-f0b7-b974c422d451"
      },
      "outputs": [
        {
          "output_type": "stream",
          "name": "stdout",
          "text": [
            "<class 'bytes'>\n",
            "<class 'dict'>\n"
          ]
        }
      ],
      "source": [
        "import json\n",
        "import urllib.request as req\n",
        "\n",
        "url = \"https://api.gamer.com.tw/anime/v1/danmu.php?videoSn=36632&geo=TW%2CHK\"\n",
        "f = req.urlopen(url)\n",
        "content = f.read()\n",
        "# content是bytes(原始的字串 0101構成)\n",
        "print(type(content))\n",
        "# 型態轉換: bytes->list+dict型態\n",
        "content_convert = json.loads(content)\n",
        "print(type(content_convert))"
      ]
    },
    {
      "cell_type": "code",
      "source": [
        "# 寫入檔案/讀取檔案的複習\n",
        "f = open(\"a.txt\", \"w\", encoding=\"utf-8\")\n",
        "f.write(\"abcd\")\n",
        "f.close()\n",
        "\n",
        "f = open(\"a.txt\", \"r\", encoding=\"utf-8\")\n",
        "content = f.read()\n",
        "print(content)\n",
        "f.close()"
      ],
      "metadata": {
        "id": "5UWp_8ZYp9Tt"
      },
      "execution_count": 1,
      "outputs": []
    }
  ]
}