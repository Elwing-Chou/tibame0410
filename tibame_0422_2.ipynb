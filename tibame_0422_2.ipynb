{
  "nbformat": 4,
  "nbformat_minor": 0,
  "metadata": {
    "colab": {
      "provenance": [],
      "authorship_tag": "ABX9TyP6inq27DN/TT0hnRjJRSIP",
      "include_colab_link": true
    },
    "kernelspec": {
      "name": "python3",
      "display_name": "Python 3"
    },
    "language_info": {
      "name": "python"
    }
  },
  "cells": [
    {
      "cell_type": "markdown",
      "metadata": {
        "id": "view-in-github",
        "colab_type": "text"
      },
      "source": [
        "<a href=\"https://colab.research.google.com/github/Elwing-Chou/tibame0410/blob/main/tibame_0422_2.ipynb\" target=\"_parent\"><img src=\"https://colab.research.google.com/assets/colab-badge.svg\" alt=\"Open In Colab\"/></a>"
      ]
    },
    {
      "cell_type": "markdown",
      "source": [
        "\n",
        "\n",
        "```\n",
        "HTTP代碼\n",
        "2: 成功\n",
        "3: 轉址\n",
        "4: 錯誤\n",
        "\n",
        "403: Forbidden 拒絕\n",
        "     1. IP被拒絕\n",
        "     2. 你學得不像\n",
        "404: Not Found 找不到網址\n",
        "\n",
        "問題: 1. 網址 2. Header\n",
        "\n",
        "```\n",
        "\n"
      ],
      "metadata": {
        "id": "LGkTrwfeOoe6"
      }
    },
    {
      "cell_type": "code",
      "execution_count": 42,
      "metadata": {
        "id": "hGVJ4iLiNp4q"
      },
      "outputs": [],
      "source": [
        "import urllib.request as req\n",
        "import bs4 as bs\n",
        "import json\n",
        "\n",
        "url = \"https://www.ptt.cc/bbs/Beauty/M.1745216140.A.52E.html\"\n",
        "r = req.Request(url)\n",
        "r.add_header(\"User-Agent\", \"Mozilla/5.0 (Windows NT 10.0; Win64; x64) AppleWebKit/537.36 (KHTML, like Gecko) Chrome/10\")\n",
        "resp = req.urlopen(r)\n",
        "html = bs.BeautifulSoup(resp.read())\n",
        "\n",
        "# meta process\n",
        "metas = html.find_all(\"span\", {\"class\":\"article-meta-value\"})\n",
        "post_id = metas[0].text\n",
        "board_name = metas[1].text\n",
        "post_title = metas[2].text\n",
        "post_time = metas[3].text\n",
        "\n",
        "# push process\n",
        "push_list = []\n",
        "pushes = html.find_all(\"div\", {\"class\":\"push\"})\n",
        "for push in pushes:\n",
        "    push_meta = push.find_all(\"span\")\n",
        "    p_type = push_meta[0].text\n",
        "    if \"推\" in p_type:\n",
        "        p_type = 1\n",
        "    elif \"噓\" in p_type:\n",
        "        p_type = -1\n",
        "    else:\n",
        "        p_type = 0\n",
        "    p_id = push_meta[1].text\n",
        "    p_text = push_meta[2].text.replace(\": \", \"\")\n",
        "    p_ipanddate = push_meta[3].text.strip()\n",
        "    p_dict = {\n",
        "        \"id\":p_id,\n",
        "        \"type\":p_type,\n",
        "        \"text\":p_text,\n",
        "        \"ip/date\":p_ipanddate\n",
        "    }\n",
        "    push_list.append(p_dict)\n",
        "\n",
        "row = {\n",
        "    \"作者\":post_id,\n",
        "    \"標題\":post_title,\n",
        "    \"時間\":post_time,\n",
        "    \"看板\":board_name,\n",
        "    \"推噓文\":push_list\n",
        "}\n",
        "\n",
        "fn = url.split(\"/\")[-1].replace(\".html\", \".json\")\n",
        "with open(fn, \"w\", encoding=\"utf-8\") as f:\n",
        "    json.dump(row, f, ensure_ascii=False, indent=4)"
      ]
    },
    {
      "cell_type": "code",
      "source": [
        "# 內文: extract() 命令消失\n",
        "# 所以把main-content區塊裡面的其他的div都消失\n",
        "import urllib.request as req\n",
        "import bs4 as bs\n",
        "\n",
        "url = \"https://www.ptt.cc/bbs/Beauty/M.1745215157.A.CAA.html\"\n",
        "r = req.Request(url)\n",
        "r.add_header(\"User-Agent\", \"Mozilla/5.0 (Windows NT 10.0; Win64; x64) AppleWebKit/537.36 (KHTML, like Gecko) Chrome/10\")\n",
        "resp = req.urlopen(r)\n",
        "html = bs.BeautifulSoup(resp.read())\n",
        "\n",
        "\n",
        "main_content = html.find(\"div\", {\"id\":\"main-content\"})\n",
        "other_div = main_content.find_all(\"div\")\n",
        "for other in other_div:\n",
        "    other.extract()\n",
        "print(main_content.text)"
      ],
      "metadata": {
        "colab": {
          "base_uri": "https://localhost:8080/"
        },
        "id": "fmjQCetufQ64",
        "outputId": "31558174-2c90-4e84-8ae5-c806d2ae4a7b"
      },
      "execution_count": 39,
      "outputs": [
        {
          "output_type": "stream",
          "name": "stdout",
          "text": [
            "\n",
            "凱特琳黛佛（Kaitlyn Dever）\n",
            "\n",
            "1996年12月21日（28歲）\n",
            "\n",
            "https://i.imgur.com/i0UXhSw.jpeg\n",
            "https://i.imgur.com/SHthxJZ.jpeg\n",
            "https://i.imgur.com/topzFPV.jpeg\n",
            "https://i.imgur.com/YfgTgLG.jpeg\n",
            "https://i.imgur.com/FKaEIKF.jpeg\n",
            "\n",
            "\n",
            "--\n",
            "※ 發信站: 批踢踢實業坊(ptt.cc), 來自: 1.168.105.18 (臺灣)\n",
            "※ 文章網址: https://www.ptt.cc/bbs/Beauty/M.1745215157.A.CAA.html\n",
            "※ 編輯: betweenus020 (1.168.105.18 臺灣), 04/21/2025 14:01:19\n",
            "\n"
          ]
        }
      ]
    }
  ]
}