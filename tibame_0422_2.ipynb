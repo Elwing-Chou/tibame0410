{
  "nbformat": 4,
  "nbformat_minor": 0,
  "metadata": {
    "colab": {
      "provenance": [],
      "authorship_tag": "ABX9TyPuH4d3Pn4HiyqTM13KhK9x",
      "include_colab_link": true
    },
    "kernelspec": {
      "name": "python3",
      "display_name": "Python 3"
    },
    "language_info": {
      "name": "python"
    }
  },
  "cells": [
    {
      "cell_type": "markdown",
      "metadata": {
        "id": "view-in-github",
        "colab_type": "text"
      },
      "source": [
        "<a href=\"https://colab.research.google.com/github/Elwing-Chou/tibame0410/blob/main/tibame_0422_2.ipynb\" target=\"_parent\"><img src=\"https://colab.research.google.com/assets/colab-badge.svg\" alt=\"Open In Colab\"/></a>"
      ]
    },
    {
      "cell_type": "markdown",
      "source": [
        "\n",
        "\n",
        "```\n",
        "HTTP代碼\n",
        "2: 成功\n",
        "3: 轉址\n",
        "4: 錯誤\n",
        "\n",
        "403: Forbidden 拒絕\n",
        "     1. IP被拒絕\n",
        "     2. 你學得不像\n",
        "404: Not Found 找不到網址\n",
        "\n",
        "問題: 1. 網址 2. Header\n",
        "\n",
        "```\n",
        "\n"
      ],
      "metadata": {
        "id": "LGkTrwfeOoe6"
      }
    },
    {
      "cell_type": "code",
      "execution_count": 23,
      "metadata": {
        "colab": {
          "base_uri": "https://localhost:8080/"
        },
        "id": "hGVJ4iLiNp4q",
        "outputId": "f628eb29-1cc7-4f83-8eaf-317b1970ba96"
      },
      "outputs": [
        {
          "output_type": "stream",
          "name": "stdout",
          "text": [
            "[{'id': 'koujei', 'type': 1, 'text': '為什麼不戴眼鏡，哭啊', 'ip/date': '36.235.233.206 04/21 14:22'}, {'id': 'azeroth', 'type': 0, 'text': '=_=疑~好像有點怪怪的', 'ip/date': '111.242.118.217 04/21 14:26'}, {'id': 'baychi999', 'type': 1, 'text': '最頂的', 'ip/date': '122.117.200.204 04/21 14:28'}, {'id': 'chen2021', 'type': 1, 'text': '是不是有整 怎麼感覺變一個人', 'ip/date': '101.9.35.126 04/21 14:30'}, {'id': 'FarkU', 'type': 0, 'text': '現在是胖東雲', 'ip/date': '118.168.55.5 04/21 14:33'}, {'id': 'giantwinter', 'type': 0, 'text': '戴眼鏡好像小丘', 'ip/date': '42.73.71.251 04/21 14:43'}, {'id': 'sunnyyoung', 'type': 1, 'text': '再劣下去就會變羅小雲', 'ip/date': '101.12.146.46 04/21 14:46'}, {'id': 'bread220', 'type': 0, 'text': '這種肉感真的剛剛好', 'ip/date': '49.216.47.167 04/21 14:50'}, {'id': 'hanainori', 'type': 1, 'text': '我東進', 'ip/date': '114.136.213.42 04/21 15:33'}, {'id': 'michael0323', 'type': 1, 'text': '看一次推一次，有夠完美的身材', 'ip/date': '114.136.214.132 04/21 16:01'}, {'id': 's860703', 'type': 0, 'text': '為何感覺變不一樣', 'ip/date': '106.64.73.144 04/21 16:23'}, {'id': 'limitlesscit', 'type': 0, 'text': '雖然知道是整的，但是還是好愛阿~', 'ip/date': '118.163.110.208 04/21 16:27'}, {'id': 'Ron51320', 'type': 1, 'text': '戴眼鏡才是完整體', 'ip/date': '101.10.236.174 04/21 16:33'}, {'id': 'Krishna', 'type': 1, 'text': '這組不好看', 'ip/date': '101.10.3.48 04/21 17:00'}, {'id': 'hanainori', 'type': 0, 'text': '這組眼袋超大', 'ip/date': '114.136.213.42 04/21 17:01'}, {'id': 'n61208', 'type': 1, 'text': '她不適合戴眼鏡', 'ip/date': '223.141.143.133 04/21 17:05'}, {'id': 'a4990640', 'type': 1, 'text': '他真的好完美', 'ip/date': '39.12.72.98 04/21 17:14'}, {'id': 'azeroth', 'type': 1, 'text': '=_=不是耶 以前眼鏡才是他本體..現在怎麼', 'ip/date': '111.242.118.217 04/21 17:20'}, {'id': 'tomlee1130', 'type': 1, 'text': '光明水卜櫻', 'ip/date': '223.143.208.23 04/21 17:36'}, {'id': 'jack9558', 'type': 1, 'text': '有點胖太多...', 'ip/date': '125.253.50.18 04/21 17:48'}, {'id': 'gg86300', 'type': 1, 'text': '怎麼跟眼鏡配起來怪怪的？', 'ip/date': '175.98.141.254 04/21 17:52'}, {'id': 'AlonsoHC', 'type': 1, 'text': '第二張差點看成棒棒的', 'ip/date': '118.171.89.13 04/21 18:01'}, {'id': 'kevinacc084', 'type': 1, 'text': '又圓又大', 'ip/date': '223.136.137.23 04/21 18:03'}, {'id': 'killer2857', 'type': 1, 'text': '可以配3碗飯', 'ip/date': '49.216.51.145 04/21 18:06'}, {'id': 'H004321', 'type': 1, 'text': '胖一點好啊！ 讚', 'ip/date': '49.216.255.82 04/21 18:29'}, {'id': 'chanceiam', 'type': 0, 'text': '1-10、11張怪怪的，只有一張好看？', 'ip/date': '1.163.212.212 04/21 18:42'}, {'id': 'kenike', 'type': 1, 'text': '這組拍得怪怪的', 'ip/date': '211.23.72.231 04/21 18:45'}, {'id': 'belucky', 'type': 1, 'text': '眼鏡奶妹', 'ip/date': '39.12.24.193 04/21 19:05'}, {'id': 'popptt', 'type': 1, 'text': '讚讚讚', 'ip/date': '36.225.17.138 04/21 20:02'}, {'id': 'lee198218', 'type': 1, 'text': '油膩膩', 'ip/date': '27.53.96.57 04/21 20:04'}, {'id': 'fattree', 'type': 1, 'text': '沒戴眼鏡，色氣少一半', 'ip/date': '1.161.13.168 04/21 20:04'}, {'id': 'ok771105', 'type': 1, 'text': '肉肉女', 'ip/date': '36.229.69.27 04/21 21:01'}, {'id': 'yoyo830917', 'type': 0, 'text': '最近瘦到假體的形狀很明顯', 'ip/date': '118.166.206.224 04/21 21:14'}, {'id': 'MoDerF', 'type': 1, 'text': ' https://i.imgur.com/Zyl2JHR.jpeg', 'ip/date': '49.216.164.10 04/21 21:22'}, {'id': 'MoDerF', 'type': 0, 'text': '我沒了', 'ip/date': '49.216.164.10 04/21 21:22'}, {'id': 'sorrowtear', 'type': 1, 'text': '不帶眼鏡很普 帶上眼鏡才地味濃', 'ip/date': '1.168.208.234 04/21 21:29'}, {'id': 'a126451026', 'type': 1, 'text': '眼鏡才是本體阿', 'ip/date': '42.72.11.178 04/21 22:18'}, {'id': 'CSSun', 'type': 0, 'text': '當素人很棒，當模特就略遜了。', 'ip/date': '1.160.133.3 04/21 22:34'}, {'id': 'chyo0722', 'type': 1, 'text': 'うみ推爆', 'ip/date': '223.137.162.195 04/21 22:54'}, {'id': 'HaiirotoAo', 'type': 1, 'text': '為什麼會有人戴眼鏡比較好看', 'ip/date': '39.14.9.21 04/21 22:57'}, {'id': 'CmDawn', 'type': 0, 'text': '你們宅男喜歡看假的東西不會去用AI生圖喔', 'ip/date': '218.172.0.39 04/21 23:09'}, {'id': 'winteryoyo', 'type': 0, 'text': '有越來越東南越的感覺', 'ip/date': '114.38.38.239 04/22 03:24'}, {'id': 'pizzalot', 'type': 1, 'text': '臉怎麼變圓了', 'ip/date': '101.10.159.198 04/22 10:04'}, {'id': 'a3338183', 'type': 1, 'text': '她只有在戴上眼鏡的時候才有辨識度', 'ip/date': '211.23.87.38 04/22 13:11'}, {'id': 'raku', 'type': 0, 'text': '女人 戴上你的眼鏡', 'ip/date': '223.137.215.133 04/22 14:29'}]\n"
          ]
        }
      ],
      "source": [
        "import urllib.request as req\n",
        "import bs4 as bs\n",
        "\n",
        "url = \"https://www.ptt.cc/bbs/Beauty/M.1745216140.A.52E.html\"\n",
        "r = req.Request(url)\n",
        "r.add_header(\"User-Agent\", \"Mozilla/5.0 (Windows NT 10.0; Win64; x64) AppleWebKit/537.36 (KHTML, like Gecko) Chrome/10\")\n",
        "resp = req.urlopen(r)\n",
        "html = bs.BeautifulSoup(resp.read())\n",
        "\n",
        "# meta process\n",
        "metas = html.find_all(\"span\", {\"class\":\"article-meta-value\"})\n",
        "post_id = metas[0].text\n",
        "board_name = metas[1].text\n",
        "post_title = metas[2].text\n",
        "post_time = metas[3].text\n",
        "\n",
        "# push process\n",
        "push_list = []\n",
        "pushes = html.find_all(\"div\", {\"class\":\"push\"})\n",
        "for push in pushes:\n",
        "    push_meta = push.find_all(\"span\")\n",
        "    p_type = push_meta[0].text\n",
        "    if \"推\" in p_type:\n",
        "        p_type = 1\n",
        "    elif \"噓\" in p_type:\n",
        "        p_type = -1\n",
        "    else:\n",
        "        p_type = 0\n",
        "    p_id = push_meta[1].text\n",
        "    p_text = push_meta[2].text.replace(\": \", \"\")\n",
        "    p_ipanddate = push_meta[3].text.strip()\n",
        "    p_dict = {\n",
        "        \"id\":p_id,\n",
        "        \"type\":p_type,\n",
        "        \"text\":p_text,\n",
        "        \"ip/date\":p_ipanddate\n",
        "    }\n",
        "    push_list.append(p_dict)\n",
        "print(push_list)\n",
        "\n",
        "# {\n",
        "#     \"作者\":\n",
        "#     \"標題\"\n",
        "#     \"時間\"\n",
        "#     \"看板\"\n",
        "#     \"推噓文\":[\n",
        "#         # -1: 噓 0: > 1:推\n",
        "#         {\"id\":\"\", \"type\": , \"text\":\"\"}\n",
        "#     ]\n",
        "# }\n"
      ]
    },
    {
      "cell_type": "code",
      "source": [
        "# 內文: extract() 命令消失\n",
        "# 所以把main-content區塊裡面的其他的div都消失\n",
        "import urllib.request as req\n",
        "import bs4 as bs\n",
        "\n",
        "url = \"https://www.ptt.cc/bbs/Beauty/M.1745215157.A.CAA.html\"\n",
        "r = req.Request(url)\n",
        "r.add_header(\"User-Agent\", \"Mozilla/5.0 (Windows NT 10.0; Win64; x64) AppleWebKit/537.36 (KHTML, like Gecko) Chrome/10\")\n",
        "resp = req.urlopen(r)\n",
        "html = bs.BeautifulSoup(resp.read())\n",
        "\n",
        "\n",
        "main_content = html.find(\"div\", {\"id\":\"main-content\"})\n",
        "other_div = main_content.find_all(\"div\")\n",
        "for other in other_div:\n",
        "    other.extract()\n",
        "print(main_content.text)"
      ],
      "metadata": {
        "colab": {
          "base_uri": "https://localhost:8080/"
        },
        "id": "fmjQCetufQ64",
        "outputId": "31558174-2c90-4e84-8ae5-c806d2ae4a7b"
      },
      "execution_count": 39,
      "outputs": [
        {
          "output_type": "stream",
          "name": "stdout",
          "text": [
            "\n",
            "凱特琳黛佛（Kaitlyn Dever）\n",
            "\n",
            "1996年12月21日（28歲）\n",
            "\n",
            "https://i.imgur.com/i0UXhSw.jpeg\n",
            "https://i.imgur.com/SHthxJZ.jpeg\n",
            "https://i.imgur.com/topzFPV.jpeg\n",
            "https://i.imgur.com/YfgTgLG.jpeg\n",
            "https://i.imgur.com/FKaEIKF.jpeg\n",
            "\n",
            "\n",
            "--\n",
            "※ 發信站: 批踢踢實業坊(ptt.cc), 來自: 1.168.105.18 (臺灣)\n",
            "※ 文章網址: https://www.ptt.cc/bbs/Beauty/M.1745215157.A.CAA.html\n",
            "※ 編輯: betweenus020 (1.168.105.18 臺灣), 04/21/2025 14:01:19\n",
            "\n"
          ]
        }
      ]
    }
  ]
}