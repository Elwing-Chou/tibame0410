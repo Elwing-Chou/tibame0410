{
  "nbformat": 4,
  "nbformat_minor": 0,
  "metadata": {
    "colab": {
      "provenance": [],
      "authorship_tag": "ABX9TyMbZ7RnwwFMj5owBgdE/jeN",
      "include_colab_link": true
    },
    "kernelspec": {
      "name": "python3",
      "display_name": "Python 3"
    },
    "language_info": {
      "name": "python"
    }
  },
  "cells": [
    {
      "cell_type": "markdown",
      "metadata": {
        "id": "view-in-github",
        "colab_type": "text"
      },
      "source": [
        "<a href=\"https://colab.research.google.com/github/Elwing-Chou/tibame0410/blob/main/tibame_0422.ipynb\" target=\"_parent\"><img src=\"https://colab.research.google.com/assets/colab-badge.svg\" alt=\"Open In Colab\"/></a>"
      ]
    },
    {
      "cell_type": "code",
      "execution_count": null,
      "metadata": {
        "id": "QRfSIo8MFfJt"
      },
      "outputs": [],
      "source": [
        "import urllib.request as req\n",
        "import bs4 as bs\n",
        "\n",
        "for i in range(10):\n",
        "    page = i + 1\n",
        "    print(\"頁數:\", page)\n",
        "    url = \"https://tabelog.com/tw/okinawa/rstLst/{}/?SrtT=rt\".format(page)\n",
        "    resp = req.urlopen(url)\n",
        "    content = resp.read()\n",
        "    # 上次我們在這裡是用json.loads把bytes型態換成dict/list型態\n",
        "    html = bs.BeautifulSoup(content)\n",
        "\n",
        "    # 區塊.find/find_all\n",
        "    # 萃取屬性 [屬姓名]  內容 .text\n",
        "    rs = html.find_all(\"div\", {\"class\":\"list-rst__body\"})\n",
        "    for r in rs:\n",
        "        en = r.find(\"a\", {\"class\":\"list-rst__rst-name-target\"})\n",
        "        area_genre = r.find(\"div\", {\"class\":\"list-rst__area-genre\"})\n",
        "        rating = r.find(\"span\", {\"class\":\"c-rating__val\"})\n",
        "        dinner, lunch = r.find_all(\"span\", {\"class\":\"c-rating-v3__val\"})\n",
        "        # process\n",
        "        en_href = en[\"href\"]\n",
        "        en_name = en.text\n",
        "        area_genre_text = area_genre.text.strip()\n",
        "        area_genre_text_split = area_genre_text.split(\" / \")\n",
        "        # 如果只有一個, 地點從缺\n",
        "        if len(area_genre_text_split) == 1:\n",
        "            area_text, genre_text = \"\", area_genre_text_split[0]\n",
        "        else:\n",
        "            area_text, genre_Text = area_genre_text_split[0], area_genre_text_split[1]\n",
        "\n",
        "        rating_text = rating.text\n",
        "        # print\n",
        "        print(rating_text)\n",
        "        print(en_name)\n",
        "        print(en_href)\n",
        "        print(area_text)\n",
        "        print(genre_text)\n",
        "        print(dinner.text)\n",
        "        print(lunch.text)\n",
        "        print(\"-\" * 30)"
      ]
    },
    {
      "cell_type": "code",
      "source": [
        "s = \"       \\n     \\t    法 料理         \\n\"\n",
        "s.strip()"
      ],
      "metadata": {
        "colab": {
          "base_uri": "https://localhost:8080/",
          "height": 36
        },
        "id": "VWAGBcYcFu0v",
        "outputId": "afe478ef-904e-4f68-a3d9-6ab40f9310c7"
      },
      "execution_count": 4,
      "outputs": [
        {
          "output_type": "execute_result",
          "data": {
            "text/plain": [
              "'法 料理'"
            ],
            "application/vnd.google.colaboratory.intrinsic+json": {
              "type": "string"
            }
          },
          "metadata": {},
          "execution_count": 4
        }
      ]
    },
    {
      "cell_type": "code",
      "source": [
        "s = \"2002/02/03\"\n",
        "a, b, c = s.split(\"/\")\n",
        "print(c)"
      ],
      "metadata": {
        "colab": {
          "base_uri": "https://localhost:8080/"
        },
        "id": "jbhlf5S2RiCw",
        "outputId": "3fbba89a-2fec-4f6e-ed28-20f3a888b738"
      },
      "execution_count": 22,
      "outputs": [
        {
          "output_type": "stream",
          "name": "stdout",
          "text": [
            "03\n"
          ]
        }
      ]
    }
  ]
}