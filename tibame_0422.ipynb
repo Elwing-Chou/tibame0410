{
  "nbformat": 4,
  "nbformat_minor": 0,
  "metadata": {
    "colab": {
      "provenance": [],
      "authorship_tag": "ABX9TyNl5Le3MDJfRZgwap/JVM6/",
      "include_colab_link": true
    },
    "kernelspec": {
      "name": "python3",
      "display_name": "Python 3"
    },
    "language_info": {
      "name": "python"
    }
  },
  "cells": [
    {
      "cell_type": "markdown",
      "metadata": {
        "id": "view-in-github",
        "colab_type": "text"
      },
      "source": [
        "<a href=\"https://colab.research.google.com/github/Elwing-Chou/tibame0410/blob/main/tibame_0422.ipynb\" target=\"_parent\"><img src=\"https://colab.research.google.com/assets/colab-badge.svg\" alt=\"Open In Colab\"/></a>"
      ]
    },
    {
      "cell_type": "code",
      "execution_count": null,
      "metadata": {
        "id": "QRfSIo8MFfJt"
      },
      "outputs": [],
      "source": [
        "import urllib.request as req\n",
        "import bs4 as bs\n",
        "\n",
        "for i in range(10):\n",
        "    page = i + 1\n",
        "    print(\"頁數:\", page)\n",
        "    url = \"https://tabelog.com/tw/okinawa/rstLst/{}/?SrtT=rt\".format(page)\n",
        "    resp = req.urlopen(url)\n",
        "    content = resp.read()\n",
        "    # 上次我們在這裡是用json.loads把bytes型態換成dict/list型態\n",
        "    html = bs.BeautifulSoup(content)\n",
        "\n",
        "    # 區塊.find/find_all\n",
        "    # 萃取屬性 [屬姓名]  內容 .text\n",
        "    rs = html.find_all(\"div\", {\"class\":\"list-rst__body\"})\n",
        "    for r in rs:\n",
        "        en = r.find(\"a\", {\"class\":\"list-rst__rst-name-target\"})\n",
        "        area_genre = r.find(\"div\", {\"class\":\"list-rst__area-genre\"})\n",
        "        rating = r.find(\"span\", {\"class\":\"c-rating__val\"})\n",
        "        dinner, lunch = r.find_all(\"span\", {\"class\":\"c-rating-v3__val\"})\n",
        "        # process\n",
        "        en_href = en[\"href\"]\n",
        "        en_name = en.text\n",
        "        area_genre_text = area_genre.text.strip()\n",
        "        area_genre_text_split = area_genre_text.split(\" / \")\n",
        "        # 如果只有一個, 地點從缺\n",
        "        if len(area_genre_text_split) == 1:\n",
        "            area_text, genre_text = \"\", area_genre_text_split[0]\n",
        "        else:\n",
        "            area_text, genre_Text = area_genre_text_split[0], area_genre_text_split[1]\n",
        "\n",
        "        rating_text = rating.text\n",
        "        # print\n",
        "        print(rating_text)\n",
        "        print(en_name)\n",
        "        print(en_href)\n",
        "        print(area_text)\n",
        "        print(genre_text)\n",
        "        print(dinner.text)\n",
        "        print(lunch.text)\n",
        "        print(\"-\" * 30)"
      ]
    },
    {
      "cell_type": "markdown",
      "source": [
        "```\n",
        "google python string method\n",
        "```"
      ],
      "metadata": {
        "id": "GPVUwbOuiQbd"
      }
    },
    {
      "cell_type": "code",
      "source": [
        "# strip/split/join/replace\n",
        "s = \"       \\n     \\t    法 料理         \\n\"\n",
        "print(s.strip())\n",
        "\n",
        "s = \"2002/02/03\"\n",
        "a, b, c = s.split(\"/\")\n",
        "print(a, b, c)\n",
        "\n",
        "print(\"-\".join([a, b, c]))\n",
        "\n",
        "\n",
        "print(\"123, 456, 789\".replace(\",\", \"!\", 1))\n",
        "\n",
        "s = \"abc,def\"\n",
        "s = s.replace(\",\", \"!\")\n",
        "print(s)"
      ],
      "metadata": {
        "id": "jbhlf5S2RiCw"
      },
      "execution_count": null,
      "outputs": []
    },
    {
      "cell_type": "code",
      "source": [
        "scores = [20, 30, 40]\n",
        "b = scores.append(100)\n",
        "print(scores)\n",
        "print(b)\n",
        "\n",
        "# 1. 以前: 要=才會改\n",
        "#    現在(例外): list的功能都是直接改\n",
        "# 2. 以前: 某些功能沒有回傳值\n",
        "#    現在(更正): 任何功能都有回傳值, 只是有些功能回傳了 None 這個值\n",
        "# None: 特別的型態 無\n",
        "print(print(5))"
      ],
      "metadata": {
        "colab": {
          "base_uri": "https://localhost:8080/"
        },
        "id": "NBHtGVgYin81",
        "outputId": "a5373f0f-4189-4ca4-9d6c-fcc6556c4558"
      },
      "execution_count": 49,
      "outputs": [
        {
          "output_type": "stream",
          "name": "stdout",
          "text": [
            "[20, 30, 40, 100]\n",
            "None\n",
            "5\n",
            "None\n"
          ]
        }
      ]
    }
  ]
}