{
  "nbformat": 4,
  "nbformat_minor": 0,
  "metadata": {
    "colab": {
      "provenance": [],
      "authorship_tag": "ABX9TyOTx8o8R+VMa/d5laxIU15C",
      "include_colab_link": true
    },
    "kernelspec": {
      "name": "python3",
      "display_name": "Python 3"
    },
    "language_info": {
      "name": "python"
    }
  },
  "cells": [
    {
      "cell_type": "markdown",
      "metadata": {
        "id": "view-in-github",
        "colab_type": "text"
      },
      "source": [
        "<a href=\"https://colab.research.google.com/github/Elwing-Chou/tibame0410/blob/main/tibame_0422.ipynb\" target=\"_parent\"><img src=\"https://colab.research.google.com/assets/colab-badge.svg\" alt=\"Open In Colab\"/></a>"
      ]
    },
    {
      "cell_type": "code",
      "execution_count": 7,
      "metadata": {
        "colab": {
          "base_uri": "https://localhost:8080/"
        },
        "id": "QRfSIo8MFfJt",
        "outputId": "7b80c03a-ab23-421e-9c0c-0fd5c62cedcd"
      },
      "outputs": [
        {
          "output_type": "stream",
          "name": "stdout",
          "text": [
            "Bon.nu\n",
            "https://tabelog.com/tw/tokyo/A1304/A130401/13184186/\n",
            "AIGRE DOUCE\n",
            "https://tabelog.com/tw/tokyo/A1305/A130502/13005641/\n",
            "a tes souhaits!\n",
            "https://tabelog.com/tw/tokyo/A1320/A132001/13005853/\n",
            "Ikkou An\n",
            "https://tabelog.com/tw/tokyo/A1323/A132302/13005076/\n",
            "L'Atelier à Ma Façon\n",
            "https://tabelog.com/tw/tokyo/A1317/A131715/13242556/\n",
            "Patisserie Ryoko\n",
            "https://tabelog.com/tw/tokyo/A1316/A131603/13137010/\n",
            "Frederic Cassel Ginza Mitsukoshi Ten\n",
            "https://tabelog.com/tw/tokyo/A1301/A130101/13116839/\n",
            "GELATERIA ACQUOLINA\n",
            "https://tabelog.com/tw/tokyo/A1317/A131701/13141364/\n",
            "Avranches Guesnay\n",
            "https://tabelog.com/tw/tokyo/A1310/A131004/13186450/\n",
            "patisserie Paris S'eveille\n",
            "https://tabelog.com/tw/tokyo/A1317/A131703/13005198/\n",
            "Au Bon Vieux Temps Oyamadai Ten\n",
            "https://tabelog.com/tw/tokyo/A1317/A131715/13181654/\n",
            "patisserie K.ViNCENT\n",
            "https://tabelog.com/tw/tokyo/A1309/A130905/13035194/\n",
            "Okashiya Ucchi\n",
            "https://tabelog.com/tw/tokyo/A1309/A130901/13238644/\n",
            "ASTERISQUE\n",
            "https://tabelog.com/tw/tokyo/A1318/A131811/13140735/\n",
            "Curry Spice Gelateria KALPASI\n",
            "https://tabelog.com/tw/tokyo/A1318/A131802/13247887/\n",
            "Nihonbashi Nagato\n",
            "https://tabelog.com/tw/tokyo/A1302/A130202/13011481/\n",
            "Ryoura\n",
            "https://tabelog.com/tw/tokyo/A1317/A131707/13188208/\n",
            "LESS by Gabriele Riva & Kanako Sakakura\n",
            "https://tabelog.com/tw/tokyo/A1303/A130302/13274859/\n",
            "Usagiya\n",
            "https://tabelog.com/tw/tokyo/A1311/A131101/13003599/\n",
            "VIRON Shibuya Ten\n",
            "https://tabelog.com/tw/tokyo/A1303/A130301/13004626/\n"
          ]
        }
      ],
      "source": [
        "import urllib.request as req\n",
        "import bs4 as bs\n",
        "\n",
        "url = \"https://tabelog.com/tw/tokyo/rstLst/sweets/?SrtT=rt\"\n",
        "resp = req.urlopen(url)\n",
        "content = resp.read()\n",
        "# 上次我們在這裡是用json.loads把bytes型態換成dict/list型態\n",
        "html = bs.BeautifulSoup(content)\n",
        "\n",
        "# 區塊.find/find_all\n",
        "# 萃取屬性 [屬姓名]  內容 .text\n",
        "rs = html.find_all(\"div\", {\"class\":\"list-rst__body\"})\n",
        "for r in rs:\n",
        "    en = r.find(\"a\", {\"class\":\"list-rst__rst-name-target\"})\n",
        "    en_href = en[\"href\"]\n",
        "    en_name = en.text\n",
        "    print(en_name)\n",
        "    print(en_href)"
      ]
    },
    {
      "cell_type": "code",
      "source": [
        "s = \"       \\n     \\t    法 料理         \\n\"\n",
        "s.strip()"
      ],
      "metadata": {
        "colab": {
          "base_uri": "https://localhost:8080/",
          "height": 36
        },
        "id": "VWAGBcYcFu0v",
        "outputId": "afe478ef-904e-4f68-a3d9-6ab40f9310c7"
      },
      "execution_count": 4,
      "outputs": [
        {
          "output_type": "execute_result",
          "data": {
            "text/plain": [
              "'法 料理'"
            ],
            "application/vnd.google.colaboratory.intrinsic+json": {
              "type": "string"
            }
          },
          "metadata": {},
          "execution_count": 4
        }
      ]
    }
  ]
}