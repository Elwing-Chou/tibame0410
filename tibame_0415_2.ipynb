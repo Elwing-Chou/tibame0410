{
  "nbformat": 4,
  "nbformat_minor": 0,
  "metadata": {
    "colab": {
      "provenance": [],
      "authorship_tag": "ABX9TyMKYAuDsxxdKjEvWabKq2ae",
      "include_colab_link": true
    },
    "kernelspec": {
      "name": "python3",
      "display_name": "Python 3"
    },
    "language_info": {
      "name": "python"
    }
  },
  "cells": [
    {
      "cell_type": "markdown",
      "metadata": {
        "id": "view-in-github",
        "colab_type": "text"
      },
      "source": [
        "<a href=\"https://colab.research.google.com/github/Elwing-Chou/tibame0410/blob/main/tibame_0415_2.ipynb\" target=\"_parent\"><img src=\"https://colab.research.google.com/assets/colab-badge.svg\" alt=\"Open In Colab\"/></a>"
      ]
    },
    {
      "cell_type": "code",
      "execution_count": null,
      "metadata": {
        "id": "Q-oOMIkEamRN"
      },
      "outputs": [],
      "source": [
        "import random\n",
        "\n",
        "low, high = 0, 100\n",
        "ans = random.randint(low+1, high-1)\n",
        "\n",
        "while True:\n",
        "    print(\"請輸入\", low, \"-\", high, \":\")\n",
        "    guess = int(input())\n",
        "    if guess > ans:\n",
        "        print(\"猜大了\")\n",
        "        high = guess\n",
        "    elif guess < ans:\n",
        "        print(\"猜小了\")\n",
        "        low = guess\n",
        "    else:\n",
        "        print(\"猜對了!!!!!!!\")\n",
        "        break"
      ]
    }
  ]
}