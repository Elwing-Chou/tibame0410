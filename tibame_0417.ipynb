{
  "nbformat": 4,
  "nbformat_minor": 0,
  "metadata": {
    "colab": {
      "provenance": [],
      "authorship_tag": "ABX9TyP3wb8SYua0MF1qqRscg27w",
      "include_colab_link": true
    },
    "kernelspec": {
      "name": "python3",
      "display_name": "Python 3"
    },
    "language_info": {
      "name": "python"
    }
  },
  "cells": [
    {
      "cell_type": "markdown",
      "metadata": {
        "id": "view-in-github",
        "colab_type": "text"
      },
      "source": [
        "<a href=\"https://colab.research.google.com/github/Elwing-Chou/tibame0410/blob/main/tibame_0417.ipynb\" target=\"_parent\"><img src=\"https://colab.research.google.com/assets/colab-badge.svg\" alt=\"Open In Colab\"/></a>"
      ]
    },
    {
      "cell_type": "code",
      "execution_count": 11,
      "metadata": {
        "colab": {
          "base_uri": "https://localhost:8080/"
        },
        "id": "0hblDiAxi9E5",
        "outputId": "03067561-1a19-4836-c4bd-d5ead288e58f"
      },
      "outputs": [
        {
          "output_type": "stream",
          "name": "stdout",
          "text": [
            "30 10 60\n",
            "3\n",
            "10\n",
            "[7, 6, 5]\n",
            "[7, 6, 5, 4, 3, 2]\n",
            "[7, 5, 3]\n",
            "[1, 3, 5]\n",
            "[9, 8, 7, 6, 5, 4, 3, 2]\n",
            "[7, 6, 5, 4, 3, 2, 1]\n",
            "[9, 7, 5, 3, 1]\n",
            "[8, 6, 4, 2]\n",
            "[1, 2, 3, 4, 5, 6, 7, 8, 9]\n"
          ]
        }
      ],
      "source": [
        "scores = [20, 30, 10]\n",
        "print(max(scores), min(scores), sum(scores))\n",
        "# !!!\n",
        "print(len(scores))\n",
        "# 座號(key): 0 1 2\n",
        "# scores[len(scores)-1]\n",
        "# 反向座號(key): -3 -2 -1\n",
        "# !!!\n",
        "print(scores[-1])\n",
        "\n",
        "# 取段: list[起始key:結束key(不包含)]\n",
        "scores = [9, 8, 7, 6, 5, 4, 3, 2, 1]\n",
        "print(scores[2:5])\n",
        "print(scores[2:-1])\n",
        "\n",
        "# 取段跳號: list[起始key:結束key(不包含):幾個一跳]\n",
        "# 2 4 6\n",
        "print(scores[2:8:2])\n",
        "# 如果沒寫跳號: 其實跳號=1\n",
        "# 反向跳號: 幾個一跳是minus, 反向跳號要從右邊到左邊\n",
        "# 8 6 4\n",
        "print(scores[8:2:-2])\n",
        "\n",
        "# 省略\n",
        "print(scores[:8])\n",
        "print(scores[2:])\n",
        "print(scores[::2])\n",
        "print(scores[1::2])\n",
        "\n",
        "#\n",
        "print(scores[::-1])"
      ]
    }
  ]
}