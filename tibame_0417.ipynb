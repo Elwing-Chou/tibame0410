{
  "nbformat": 4,
  "nbformat_minor": 0,
  "metadata": {
    "colab": {
      "provenance": [],
      "authorship_tag": "ABX9TyNLY4FM/Dh0+TjMbPGkD0PU",
      "include_colab_link": true
    },
    "kernelspec": {
      "name": "python3",
      "display_name": "Python 3"
    },
    "language_info": {
      "name": "python"
    }
  },
  "cells": [
    {
      "cell_type": "markdown",
      "metadata": {
        "id": "view-in-github",
        "colab_type": "text"
      },
      "source": [
        "<a href=\"https://colab.research.google.com/github/Elwing-Chou/tibame0410/blob/main/tibame_0417.ipynb\" target=\"_parent\"><img src=\"https://colab.research.google.com/assets/colab-badge.svg\" alt=\"Open In Colab\"/></a>"
      ]
    },
    {
      "cell_type": "code",
      "execution_count": 7,
      "metadata": {
        "colab": {
          "base_uri": "https://localhost:8080/"
        },
        "id": "0hblDiAxi9E5",
        "outputId": "28a43ebc-0f4d-4657-82b7-bb78b4149c25"
      },
      "outputs": [
        {
          "output_type": "stream",
          "name": "stdout",
          "text": [
            "30 10 60\n",
            "3\n",
            "10\n",
            "[7, 6, 5]\n",
            "[7, 6, 5, 4, 3, 2]\n",
            "[7, 5, 3]\n",
            "[1, 3, 5]\n"
          ]
        }
      ],
      "source": [
        "scores = [20, 30, 10]\n",
        "print(max(scores), min(scores), sum(scores))\n",
        "# !!!\n",
        "print(len(scores))\n",
        "# 座號(key): 0 1 2\n",
        "# scores[len(scores)-1]\n",
        "# 反向座號(key): -3 -2 -1\n",
        "# !!!\n",
        "print(scores[-1])\n",
        "\n",
        "# 取段: list[起始key:結束key(不包含)]\n",
        "scores = [9, 8, 7, 6, 5, 4, 3, 2, 1]\n",
        "print(scores[2:5])\n",
        "print(scores[2:-1])\n",
        "\n",
        "# 取段跳號: list[起始key:結束key(不包含):幾個一跳]\n",
        "# 2 4 6\n",
        "print(scores[2:8:2])\n",
        "# 如果沒寫跳號: 其實跳號=1\n",
        "# 反向跳號: 幾個一跳是minus, 反向跳號要從右邊到左邊\n",
        "# 8 6 4\n",
        "print(scores[8:2:-2])"
      ]
    }
  ]
}