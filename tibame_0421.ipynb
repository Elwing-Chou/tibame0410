{
  "nbformat": 4,
  "nbformat_minor": 0,
  "metadata": {
    "colab": {
      "provenance": [],
      "authorship_tag": "ABX9TyPLoLokbQ9qt78On4Cwc+8p",
      "include_colab_link": true
    },
    "kernelspec": {
      "name": "python3",
      "display_name": "Python 3"
    },
    "language_info": {
      "name": "python"
    }
  },
  "cells": [
    {
      "cell_type": "markdown",
      "metadata": {
        "id": "view-in-github",
        "colab_type": "text"
      },
      "source": [
        "<a href=\"https://colab.research.google.com/github/Elwing-Chou/tibame0410/blob/main/tibame_0421.ipynb\" target=\"_parent\"><img src=\"https://colab.research.google.com/assets/colab-badge.svg\" alt=\"Open In Colab\"/></a>"
      ]
    },
    {
      "cell_type": "markdown",
      "source": [
        "# 爬蟲SOP\n",
        "\n",
        "```\n",
        "找到網址:\n",
        "1. 打開原始碼(網址列的答案)\n",
        "2. a. 你需要的就在原始碼: 網址列\n",
        "   b. 你需要的沒在原始碼: F12找隱藏網址\n",
        "\n",
        "```"
      ],
      "metadata": {
        "id": "beisHFjMbf29"
      }
    },
    {
      "cell_type": "markdown",
      "source": [
        "```\n",
        "HTML是由無數個長方形方框構成\n",
        "\n",
        "<a href=\"網址\"> -> 開始\n",
        "    顯示內容\n",
        "</a> -> 結束\n",
        "\n",
        "1. 名字: 決定他是什麼\n",
        "    a: 超連結 img: 圖片 video: 影片\n",
        "\n",
        "2. 屬性: 決定細節(名=\"value\")\n",
        "    a href=\"網址\" img/video src=\"網址\"\n",
        "\n",
        "3. 顯示內容\n",
        "```"
      ],
      "metadata": {
        "id": "fo1ZAO-45meS"
      }
    },
    {
      "cell_type": "markdown",
      "source": [
        "```\n",
        "前端\n",
        "1. HTML: 內容部分\n",
        "2. CSS: 排版設定檔\n",
        "3. JavsScript: 動態部分\n",
        "\n",
        "後端\n",
        "1. 收到網址以後的處理\n",
        "2. 資料庫的管理\n",
        "\n",
        "css語法: 找到區塊加上排版\n",
        "\n",
        "1. html名字\n",
        "a{\n",
        "    background-color:red;\n",
        "}\n",
        "\n",
        "特殊排版屬性 class=\"分類1 分類2 分類3\"\n",
        "2. class選擇\n",
        ".分類1{\n",
        "    xxxx:xxx\n",
        "}\n",
        "\n",
        "HTML屬性 id=\"特殊值\"\n",
        "3. id選擇\n",
        "#特殊值{\n",
        "    XXX:xxxx\n",
        "}\n",
        "```"
      ],
      "metadata": {
        "id": "hGTprgmcAfcr"
      }
    },
    {
      "cell_type": "code",
      "execution_count": null,
      "metadata": {
        "id": "5s7uZ1_KbdVJ"
      },
      "outputs": [],
      "source": []
    }
  ]
}