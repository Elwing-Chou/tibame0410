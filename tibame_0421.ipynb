{
  "nbformat": 4,
  "nbformat_minor": 0,
  "metadata": {
    "colab": {
      "provenance": [],
      "authorship_tag": "ABX9TyMtDS6653/Jm+Tua6PWB+Da",
      "include_colab_link": true
    },
    "kernelspec": {
      "name": "python3",
      "display_name": "Python 3"
    },
    "language_info": {
      "name": "python"
    }
  },
  "cells": [
    {
      "cell_type": "markdown",
      "metadata": {
        "id": "view-in-github",
        "colab_type": "text"
      },
      "source": [
        "<a href=\"https://colab.research.google.com/github/Elwing-Chou/tibame0410/blob/main/tibame_0421.ipynb\" target=\"_parent\"><img src=\"https://colab.research.google.com/assets/colab-badge.svg\" alt=\"Open In Colab\"/></a>"
      ]
    },
    {
      "cell_type": "markdown",
      "source": [
        "# 爬蟲SOP\n",
        "\n",
        "```\n",
        "找到網址:\n",
        "1. 打開原始碼(網址列的答案)\n",
        "2. a. 你需要的就在原始碼: 網址列\n",
        "   b. 你需要的沒在原始碼: F12找隱藏網址\n",
        "\n",
        "```"
      ],
      "metadata": {
        "id": "beisHFjMbf29"
      }
    },
    {
      "cell_type": "markdown",
      "source": [
        "```\n",
        "HTML是由無數個長方形方框構成\n",
        "\n",
        "<a href=\"網址\"> -> 開始\n",
        "    顯示內容\n",
        "</a> -> 結束\n",
        "\n",
        "1. 名字: 決定他是什麼\n",
        "    a: 超連結 img: 圖片 video: 影片\n",
        "\n",
        "2. 屬性: 決定細節(名=\"value\")\n",
        "    a href=\"網址\" img/video src=\"網址\"\n",
        "\n",
        "3. 顯示內容\n",
        "```"
      ],
      "metadata": {
        "id": "fo1ZAO-45meS"
      }
    },
    {
      "cell_type": "markdown",
      "source": [
        "```\n",
        "前端\n",
        "1. HTML: 內容部分\n",
        "2. CSS: 排版設定檔\n",
        "3. JavsScript: 動態部分\n",
        "\n",
        "後端\n",
        "1. 收到網址以後的處理\n",
        "2. 資料庫的管理\n",
        "\n",
        "css語法: 找到區塊加上排版\n",
        "\n",
        "1. html名字\n",
        "a{\n",
        "    background-color:red;\n",
        "}\n",
        "\n",
        "特殊排版屬性 class=\"分類1 分類2 分類3\"\n",
        "2. class選擇\n",
        ".分類1{\n",
        "    xxxx:xxx\n",
        "}\n",
        "\n",
        "HTML屬性 id=\"特殊值\"\n",
        "3. id選擇\n",
        "#特殊值{\n",
        "    XXX:xxxx\n",
        "}\n",
        "```"
      ],
      "metadata": {
        "id": "hGTprgmcAfcr"
      }
    },
    {
      "cell_type": "code",
      "execution_count": null,
      "metadata": {
        "colab": {
          "base_uri": "https://localhost:8080/"
        },
        "id": "5s7uZ1_KbdVJ",
        "outputId": "11b29c11-eae2-4faa-dce0-c27d9018c61f"
      },
      "outputs": [
        {
          "output_type": "stream",
          "name": "stdout",
          "text": [
            "<a class=\"list-rst__rst-name-target cpy-rst-name\" data-list-dest=\"item_top\" href=\"https://tabelog.com/tw/tokyo/A1304/A130401/13184186/\" rel=\"noopener\" target=\"_blank\">Bon.nu</a>\n",
            "https://tabelog.com/tw/tokyo/A1304/A130401/13184186/\n",
            "Bon.nu\n",
            "\n",
            "                            參宮橋車站 / 法式料理, 蛋糕\n",
            "                          \n"
          ]
        }
      ],
      "source": [
        "import urllib.request as req\n",
        "import bs4 as bs\n",
        "\n",
        "url = \"https://tabelog.com/tw/tokyo/rstLst/sweets/?SrtT=rt\"\n",
        "resp = req.urlopen(url)\n",
        "content = resp.read()\n",
        "# 上次我們在這裡是用json.loads把bytes型態換成dict/list型態\n",
        "html = bs.BeautifulSoup(content)\n",
        "# print(html.prettify())\n",
        "# 區塊: find/find_all(html名字, 篩選條件)\n",
        "target = html.find(\"a\", {\"class\":\"list-rst__rst-name-target\"})\n",
        "print(target)\n",
        "# 萃取:\n",
        "# 1. href屬性(字典): 區塊[\"href\"]\n",
        "print(target[\"href\"])\n",
        "# 一個型態到底可以擁有那些東西 1. 專屬功能(人.吃飯())  2. 專屬值(人.身高)\n",
        "# 2. 顯示內容(專屬值): 區塊.text\n",
        "print(target.text)\n",
        "\n",
        "target = html.find(\"div\", {\"class\":\"list-rst__area-genre\"})\n",
        "print(target.text)"
      ]
    },
    {
      "cell_type": "code",
      "source": [
        "# 這要會!!! 功能定義\n",
        "# 定義參數: 只是先定義代號\n",
        "def calculate_bmi(h, w, d=2):\n",
        "    bmi = w / (h / 100) ** 2\n",
        "    return round(bmi, d)\n",
        "print(calculate_bmi(175, 73, 4))\n",
        "print(calculate_bmi(175, 73))"
      ],
      "metadata": {
        "colab": {
          "base_uri": "https://localhost:8080/"
        },
        "id": "IdgZVXTeSZsM",
        "outputId": "b91f33e7-fb06-49e0-b7f2-2fe8c309063e"
      },
      "execution_count": null,
      "outputs": [
        {
          "output_type": "stream",
          "name": "stdout",
          "text": [
            "23.8367\n",
            "23.84\n"
          ]
        }
      ]
    },
    {
      "cell_type": "markdown",
      "source": [
        "\n",
        "\n",
        "```\n",
        "單次一個複雜: 字典\n",
        "多次複雜: 自訂新的形態(物件導向)\n",
        "```\n",
        "\n"
      ],
      "metadata": {
        "id": "6v8jedK1UTAp"
      }
    },
    {
      "cell_type": "code",
      "source": [
        "# 自訂型態會以大寫開始, 並且以大寫每個字, SchoolStudent\n",
        "class Student:\n",
        "    def __init__(self, w, h):\n",
        "        # 專屬值\n",
        "        self.weight = w\n",
        "        self.height = h\n",
        "\n",
        "    def calculate_bmi(self):\n",
        "        bmi = self.weight / (self.height / 100) ** 2\n",
        "        return bmi\n",
        "\n",
        "    def __add__(self, other):\n",
        "        new_w = (self.weight + other.weight) / 2.0\n",
        "        new_h = (self.height + other.height) / 2.0\n",
        "        return Student(new_w, new_h)\n",
        "\n",
        "# 怎麼創一個型態東西(創造功能__init__專屬功能)\n",
        "s1 = Student(80, 175)\n",
        "# 以前: calculate_bmi(s1)\n",
        "# 專屬: s1.calculate_bmi()\n",
        "print(s1.calculate_bmi())\n",
        "\n",
        "s2 = Student(75, 180)\n",
        "\n",
        "# s1 + s2\n",
        "# s1.__add__(s2)\n",
        "s3 = s1 + s2\n",
        "print(s3.calculate_bmi())"
      ],
      "metadata": {
        "colab": {
          "base_uri": "https://localhost:8080/"
        },
        "id": "A59Mfq3hUOO1",
        "outputId": "53592d8a-d29c-410a-8c7a-9ec01dfbfeb2"
      },
      "execution_count": null,
      "outputs": [
        {
          "output_type": "stream",
          "name": "stdout",
          "text": [
            "26.122448979591837\n",
            "24.598293989287843\n"
          ]
        }
      ]
    },
    {
      "cell_type": "code",
      "source": [
        "def add():\n",
        "    test = lambda w:w+2\n",
        "    return test(5)\n",
        "b = add\n",
        "b()"
      ],
      "metadata": {
        "colab": {
          "base_uri": "https://localhost:8080/"
        },
        "id": "W-z_epR6enEP",
        "outputId": "a6310624-0d5a-4318-ffb3-cd6aadc07df6"
      },
      "execution_count": null,
      "outputs": [
        {
          "output_type": "execute_result",
          "data": {
            "text/plain": [
              "7"
            ]
          },
          "metadata": {},
          "execution_count": 25
        }
      ]
    }
  ]
}