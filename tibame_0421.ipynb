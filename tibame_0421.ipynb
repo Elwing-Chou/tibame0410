{
  "nbformat": 4,
  "nbformat_minor": 0,
  "metadata": {
    "colab": {
      "provenance": [],
      "authorship_tag": "ABX9TyPzfz/H4Wbt+lFKEbsVm8uE",
      "include_colab_link": true
    },
    "kernelspec": {
      "name": "python3",
      "display_name": "Python 3"
    },
    "language_info": {
      "name": "python"
    }
  },
  "cells": [
    {
      "cell_type": "markdown",
      "metadata": {
        "id": "view-in-github",
        "colab_type": "text"
      },
      "source": [
        "<a href=\"https://colab.research.google.com/github/Elwing-Chou/tibame0410/blob/main/tibame_0421.ipynb\" target=\"_parent\"><img src=\"https://colab.research.google.com/assets/colab-badge.svg\" alt=\"Open In Colab\"/></a>"
      ]
    },
    {
      "cell_type": "markdown",
      "source": [
        "# 爬蟲SOP\n",
        "\n",
        "```\n",
        "找到網址:\n",
        "1. 打開原始碼(網址列的答案)\n",
        "2. a. 你需要的就在原始碼: 網址列\n",
        "   b. 你需要的沒在原始碼: F12找隱藏網址\n",
        "\n",
        "```"
      ],
      "metadata": {
        "id": "beisHFjMbf29"
      }
    },
    {
      "cell_type": "markdown",
      "source": [
        "```\n",
        "HTML是由無數個長方形方框構成\n",
        "\n",
        "<a href=\"網址\"> -> 開始\n",
        "    顯示內容\n",
        "</a> -> 結束\n",
        "\n",
        "1. 名字: 決定他是什麼\n",
        "    a: 超連結 img: 圖片 video: 影片\n",
        "\n",
        "2. 屬性: 決定細節(名=\"value\")\n",
        "    a href=\"網址\" img/video src=\"網址\"\n",
        "\n",
        "3. 顯示內容\n",
        "```"
      ],
      "metadata": {
        "id": "fo1ZAO-45meS"
      }
    },
    {
      "cell_type": "markdown",
      "source": [
        "```\n",
        "前端\n",
        "1. HTML: 內容部分\n",
        "2. CSS: 排版設定檔\n",
        "3. JavsScript: 動態部分\n",
        "\n",
        "後端\n",
        "1. 收到網址以後的處理\n",
        "2. 資料庫的管理\n",
        "\n",
        "css語法: 找到區塊加上排版\n",
        "\n",
        "1. html名字\n",
        "a{\n",
        "    background-color:red;\n",
        "}\n",
        "\n",
        "特殊排版屬性 class=\"分類1 分類2 分類3\"\n",
        "2. class選擇\n",
        ".分類1{\n",
        "    xxxx:xxx\n",
        "}\n",
        "\n",
        "HTML屬性 id=\"特殊值\"\n",
        "3. id選擇\n",
        "#特殊值{\n",
        "    XXX:xxxx\n",
        "}\n",
        "```"
      ],
      "metadata": {
        "id": "hGTprgmcAfcr"
      }
    },
    {
      "cell_type": "code",
      "execution_count": 6,
      "metadata": {
        "colab": {
          "base_uri": "https://localhost:8080/"
        },
        "id": "5s7uZ1_KbdVJ",
        "outputId": "f0fe85cb-5ae1-4f30-ce98-fae9fcdfdd3b"
      },
      "outputs": [
        {
          "output_type": "stream",
          "name": "stdout",
          "text": [
            "<a class=\"list-rst__rst-name-target cpy-rst-name\" data-list-dest=\"item_top\" href=\"https://tabelog.com/tw/tokyo/A1304/A130401/13184186/\" rel=\"noopener\" target=\"_blank\">Bon.nu</a>\n",
            "https://tabelog.com/tw/tokyo/A1304/A130401/13184186/\n"
          ]
        }
      ],
      "source": [
        "import urllib.request as req\n",
        "import bs4 as bs\n",
        "\n",
        "url = \"https://tabelog.com/tw/tokyo/rstLst/sweets/?SrtT=rt\"\n",
        "resp = req.urlopen(url)\n",
        "content = resp.read()\n",
        "# 上次我們在這裡是用json.loads把bytes型態換成dict/list型態\n",
        "html = bs.BeautifulSoup(content)\n",
        "# print(html.prettify())\n",
        "# 區塊: find/find_all(html名字, 篩選條件)\n",
        "target = html.find(\"a\", {\"class\":\"list-rst__rst-name-target\"})\n",
        "print(target)\n",
        "# 萃取:\n",
        "# 1. href屬性(字典): 區塊[\"href\"]\n",
        "print(target[\"href\"])\n",
        "# 一個型態到底可以擁有那些東西 1. 專屬功能(人.吃飯())  2. 專屬值(人.身高)\n",
        "# 2.\n"
      ]
    },
    {
      "cell_type": "code",
      "source": [
        "# 這要會!!! 功能定義\n",
        "# 定義參數: 只是先定義代號\n",
        "def calculate_bmi(h, w, d=2):\n",
        "    bmi = w / (h / 100) ** 2\n",
        "    return round(bmi, d)\n",
        "print(calculate_bmi(175, 73, 4))\n",
        "print(calculate_bmi(175, 73))"
      ],
      "metadata": {
        "colab": {
          "base_uri": "https://localhost:8080/"
        },
        "id": "IdgZVXTeSZsM",
        "outputId": "b91f33e7-fb06-49e0-b7f2-2fe8c309063e"
      },
      "execution_count": 9,
      "outputs": [
        {
          "output_type": "stream",
          "name": "stdout",
          "text": [
            "23.8367\n",
            "23.84\n"
          ]
        }
      ]
    }
  ]
}